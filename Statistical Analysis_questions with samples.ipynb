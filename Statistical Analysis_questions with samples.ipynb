{
 "cells": [
  {
   "cell_type": "markdown",
   "metadata": {},
   "source": [
    "<span style='color:Blue'>  \n",
    "\n",
    " ### Sajedeh Aghababaei\n"
   ]
  },
  {
   "cell_type": "markdown",
   "metadata": {},
   "source": [
    "You'll need these modules at minimum, so import them now and import more as you need them."
   ]
  },
  {
   "cell_type": "code",
   "execution_count": 29,
   "metadata": {},
   "outputs": [],
   "source": [
    "import pingouin as pg\n",
    "import pandas as pd\n",
    "import numpy as np\n",
    "from numpy import random as rnd\n",
    "\n",
    "import matplotlib.pyplot as plt\n",
    "import seaborn as sns\n",
    "\n",
    "import statsmodels.formula.api as smf \n",
    "from statsmodels.formula.api import ols "
   ]
  },
  {
   "cell_type": "code",
   "execution_count": 3,
   "metadata": {},
   "outputs": [],
   "source": [
    "# This function is used to find and remove the outliers. \n",
    "# Outliers are here defined as the sample outside of the 1.5 IQRs of the lower and upper quartile.\n",
    "\n",
    "def outlier_removal(dataframe,variable):\n",
    "    data = dataframe[variable]\n",
    "    # Calculate Q1 (25th percentile) and Q3 (75th percentile)\n",
    "    Q1 = data.quantile(0.25) #lower quantile\n",
    "    Q3 = data.quantile(0.75) #upper quantile\n",
    "\n",
    "    # Calculate IQR\n",
    "    IQR = Q3 - Q1\n",
    "\n",
    "    # Define outlier bounds\n",
    "    lower_bound = Q1 - 1.5 * IQR\n",
    "    upper_bound = Q3 + 1.5 * IQR\n",
    "\n",
    "    # Identify outliers within data\n",
    "    outliers = dataframe[(data < lower_bound) | (data > upper_bound)]\n",
    "\n",
    "    return outliers"
   ]
  },
  {
   "cell_type": "markdown",
   "metadata": {},
   "source": [
    "## Q1-3 Data Analyses\n",
    "\n",
    "In this part you will run statistical analyses on 3 datasets in order to test the hypotheses stated in each case. \n",
    "\n",
    "For each dataset, you need to:\n",
    "<br>\n",
    "* Identify and state the dependent variable and the independent variable(s)\n",
    "* Describe your plan for analysing the data, including any preliminary steps you will take, e.g. to test whether certain statistical test assumptions are met, and any post-hoc analyses that you plan to conduct as a follow-up (if applicable). State whether and how you intend to deal with outliers - how will you detect them and how \"outlying\" do they need to be for you to exclude them?\n",
    "* Choose and state the statistical test you will use to address the hypothesis, and provide a motivation for why this test is appropriate - most importantly regarding the variable types and number of conditions, e.g. the t-test is appropriate when you have two groups and you want to compare a continuous variable\n",
    "* Provide any summary statistics (means, medians, standard deviations, etc.) that you think are important for summarising the data, and well labeled visualizations (bar charts or scatter plots or histograms, etc) in order to convey the essential qualities of the data. Provide comments about the contents where it's important in justifying your analysis steps or interpretations.\n",
    "* Conduct and interpret any preliminary analyses you planned to do\n",
    "* Conduct and interpret the main analysis itself\n",
    "* Conduct and interpret any planned post-hoc analyses you planned to do\n",
    "* Summarise your findings and give the \"take home message\" (what do you conclude based on the data?)\n",
    "\n",
    "Not every step will necessarily apply to each dataset. Part of your task will be to determine which steps are necessary in each context. Remember that in statistics there is not always one correct way of running an analysis - what matters here is that you demonstrate you've put some thought into your choices and provide a brief but clear justification.\n",
    "\n",
    "We have provided a template layout to format your answer. Stick to this format so we can easily navigate your answer. Where we have a single cell for the plots and for the analysis in the template, of course you can use multiple cells as you see fit (e.g. a first one for importing the packages needed, then another for reading in the data, etc. etc.), with commentary in between to tell us what you're up to.\n",
    "\n",
    "The task here is designed to assess your understanding of these statistical analyses and how to interpret them. When interpreting analyses, be specific. What specifically about the outcome of the test leads to your interpretation? Make sure to enter comments that demonstrate to us your understanding of what you're doing - do not leave it to us to guess your reasons behind the analysis choices. "
   ]
  },
  {
   "cell_type": "markdown",
   "metadata": {},
   "source": [
    "### Q1: traffic deaths and their causes\n",
    "\n",
    "Car dimensions have been shifting in recent years, and a study is conducted to investigate whether and how that might be impacting the likelihood of killing a pedestrian when they are struck by a car. In the file CollisionOutcomes.xlsx you will find data from 34 traffic incidents, in which cars were driven into pedestrians on Dublin streets. The file indicates whether, in each case, the pedestrian died (1) or not (0), along with the height of the front hood of the vehicle that struck them.\n",
    "<br>\n",
    "\n",
    "Test this hypothesis: The probability of a struck pedestrian dying increases with the height of the car's front hood.\n",
    "\n",
    "Give appropriate metrics to convey how accurately your statistical model can predict whether a struck pedestrian is killed or not.\n",
    "Also estimate, from your statistical model, the odds ratio of a struck pedestrian dying vs surviving for a Range Rover with a hood height of 115 cm, compared to a Tesla with a hood height of 78 cm. \n",
    "<br>Are there other factors you think should be taken into account to interpret this accurately and fully understand the influence of Hood Height on fatalities?\n",
    "\n",
    "#### Variables, analysis plan and motivation"
   ]
  },
  {
   "cell_type": "markdown",
   "metadata": {},
   "source": [
    "<span style='color:Blue'> Set Up the Hypotheses:\n",
    "\n",
    "- **Null Hypothesis (H0):** The probability of a pedestrian dying does not increase with the height of the car's front hood.  \n",
    "- **Alternative Hypothesis (H1):** The probability of a pedestrian dying increases with the height of the car's front hood.\n",
    "\n",
    "---\n",
    "\n",
    "<span style='color:Blue'> Variables:\n",
    "\n",
    "- **Independent Variable:** Hood Height (continuous)\n",
    "- **Dependent Variable:** Death of Pedestrian (binary: 1 = died, 0 = survived)\n",
    "\n",
    "---\n",
    "\n",
    "<span style='color:Blue'> Plan:\n",
    "\n",
    "- **Logistic Regression**  \n",
    "  \n",
    "---\n",
    "\n",
    "<span style='color:Blue'> Reason for choosing this test:\n",
    "\n",
    "1. Logistic Regression is appropriate because the outcome (death or survival) is binary (nominal), and hood height is a continuous predictor variable.\n",
    "2. Logistic regression can estimate the **odds ratio**, which answers the hypothesis about how the likelihood of death increases with hood height.\n",
    "\n",
    "---\n",
    "\n",
    "<span style='color:Blue'> Preliminary Analyses:\n",
    "\n",
    "1. **Check for missing values** \n",
    "2. **Brief description of the data statisitcs:** Check the overal mean, std, and  IQ1 and IQ3    \n",
    "3. **Visualization:** Plot the hood height distribution to detect outliers. Also plot the logistic regression curve. This will help visualize how the height of the hood correlates with the likelihood of a fatality.\n",
    "4. **remove outliers:** Hood height is continuous, so we should check for any extreme values or outliers. if a sample data is larger or lower than the 1.5 of first or third quantile, it is considered as an outilier. A function named 'outlier_removal' will find and remove them.\n",
    "\n",
    "---\n",
    "\n",
    "<span style='color:Blue'> Post-hoc:\n",
    "\n",
    "1. From the logistic regression model, we can extract the coefficients for hood height and compute the **odds ratio**. \n",
    "2. Estimate the odds ratio of a pedestrian dying by a Range Rover vs Tesla. This will allow us to quantify how the odds of a fatality change with a difference in hood height between these two car models."
   ]
  },
  {
   "cell_type": "markdown",
   "metadata": {},
   "source": [
    "#### Summary Statistics and Graphs"
   ]
  },
  {
   "cell_type": "code",
   "execution_count": 3,
   "metadata": {},
   "outputs": [
    {
     "data": {
      "text/html": [
       "<div>\n",
       "<style scoped>\n",
       "    .dataframe tbody tr th:only-of-type {\n",
       "        vertical-align: middle;\n",
       "    }\n",
       "\n",
       "    .dataframe tbody tr th {\n",
       "        vertical-align: top;\n",
       "    }\n",
       "\n",
       "    .dataframe thead th {\n",
       "        text-align: right;\n",
       "    }\n",
       "</style>\n",
       "<table border=\"1\" class=\"dataframe\">\n",
       "  <thead>\n",
       "    <tr style=\"text-align: right;\">\n",
       "      <th></th>\n",
       "      <th>Unnamed: 0</th>\n",
       "      <th>Height</th>\n",
       "      <th>fatal</th>\n",
       "    </tr>\n",
       "  </thead>\n",
       "  <tbody>\n",
       "    <tr>\n",
       "      <th>0</th>\n",
       "      <td>0</td>\n",
       "      <td>71</td>\n",
       "      <td>0</td>\n",
       "    </tr>\n",
       "    <tr>\n",
       "      <th>1</th>\n",
       "      <td>1</td>\n",
       "      <td>72</td>\n",
       "      <td>1</td>\n",
       "    </tr>\n",
       "    <tr>\n",
       "      <th>2</th>\n",
       "      <td>2</td>\n",
       "      <td>88</td>\n",
       "      <td>0</td>\n",
       "    </tr>\n",
       "    <tr>\n",
       "      <th>3</th>\n",
       "      <td>3</td>\n",
       "      <td>101</td>\n",
       "      <td>0</td>\n",
       "    </tr>\n",
       "    <tr>\n",
       "      <th>4</th>\n",
       "      <td>4</td>\n",
       "      <td>137</td>\n",
       "      <td>1</td>\n",
       "    </tr>\n",
       "  </tbody>\n",
       "</table>\n",
       "</div>"
      ],
      "text/plain": [
       "   Unnamed: 0  Height  fatal\n",
       "0           0      71      0\n",
       "1           1      72      1\n",
       "2           2      88      0\n",
       "3           3     101      0\n",
       "4           4     137      1"
      ]
     },
     "execution_count": 3,
     "metadata": {},
     "output_type": "execute_result"
    }
   ],
   "source": [
    "# Step1: Load the dataset\n",
    "df_fatal = pd.read_excel('CollisionOutcomes.xlsx')\n",
    "df_fatal.head()"
   ]
  },
  {
   "cell_type": "code",
   "execution_count": 4,
   "metadata": {},
   "outputs": [
    {
     "name": "stdout",
     "output_type": "stream",
     "text": [
      "checking for missing values:\n",
      "\n",
      "Unnamed: 0    0\n",
      "Height        0\n",
      "fatal         0\n",
      "dtype: int64\n",
      "\n",
      "Statistics of the dataset:\n"
     ]
    },
    {
     "data": {
      "text/html": [
       "<div>\n",
       "<style scoped>\n",
       "    .dataframe tbody tr th:only-of-type {\n",
       "        vertical-align: middle;\n",
       "    }\n",
       "\n",
       "    .dataframe tbody tr th {\n",
       "        vertical-align: top;\n",
       "    }\n",
       "\n",
       "    .dataframe thead th {\n",
       "        text-align: right;\n",
       "    }\n",
       "</style>\n",
       "<table border=\"1\" class=\"dataframe\">\n",
       "  <thead>\n",
       "    <tr style=\"text-align: right;\">\n",
       "      <th></th>\n",
       "      <th>Unnamed: 0</th>\n",
       "      <th>Height</th>\n",
       "      <th>fatal</th>\n",
       "    </tr>\n",
       "  </thead>\n",
       "  <tbody>\n",
       "    <tr>\n",
       "      <th>count</th>\n",
       "      <td>34.000000</td>\n",
       "      <td>34.000000</td>\n",
       "      <td>34.000000</td>\n",
       "    </tr>\n",
       "    <tr>\n",
       "      <th>mean</th>\n",
       "      <td>16.500000</td>\n",
       "      <td>108.911765</td>\n",
       "      <td>0.500000</td>\n",
       "    </tr>\n",
       "    <tr>\n",
       "      <th>std</th>\n",
       "      <td>9.958246</td>\n",
       "      <td>29.516680</td>\n",
       "      <td>0.507519</td>\n",
       "    </tr>\n",
       "    <tr>\n",
       "      <th>min</th>\n",
       "      <td>0.000000</td>\n",
       "      <td>6.000000</td>\n",
       "      <td>0.000000</td>\n",
       "    </tr>\n",
       "    <tr>\n",
       "      <th>25%</th>\n",
       "      <td>8.250000</td>\n",
       "      <td>88.250000</td>\n",
       "      <td>0.000000</td>\n",
       "    </tr>\n",
       "    <tr>\n",
       "      <th>50%</th>\n",
       "      <td>16.500000</td>\n",
       "      <td>114.500000</td>\n",
       "      <td>0.500000</td>\n",
       "    </tr>\n",
       "    <tr>\n",
       "      <th>75%</th>\n",
       "      <td>24.750000</td>\n",
       "      <td>131.750000</td>\n",
       "      <td>1.000000</td>\n",
       "    </tr>\n",
       "    <tr>\n",
       "      <th>max</th>\n",
       "      <td>33.000000</td>\n",
       "      <td>149.000000</td>\n",
       "      <td>1.000000</td>\n",
       "    </tr>\n",
       "  </tbody>\n",
       "</table>\n",
       "</div>"
      ],
      "text/plain": [
       "       Unnamed: 0      Height      fatal\n",
       "count   34.000000   34.000000  34.000000\n",
       "mean    16.500000  108.911765   0.500000\n",
       "std      9.958246   29.516680   0.507519\n",
       "min      0.000000    6.000000   0.000000\n",
       "25%      8.250000   88.250000   0.000000\n",
       "50%     16.500000  114.500000   0.500000\n",
       "75%     24.750000  131.750000   1.000000\n",
       "max     33.000000  149.000000   1.000000"
      ]
     },
     "execution_count": 4,
     "metadata": {},
     "output_type": "execute_result"
    }
   ],
   "source": [
    "#Step 2: Overall view of the dataset\n",
    "\n",
    "# Check for missing values\n",
    "\n",
    "print('checking for missing values:\\n')\n",
    "print(df_fatal.isnull().sum())\n",
    "\n",
    "# Descriptive statistics\n",
    "print('\\nStatistics of the dataset:')\n",
    "df_fatal.describe()"
   ]
  },
  {
   "cell_type": "markdown",
   "metadata": {},
   "source": [
    "<span style='color:Blue'> So based on the above, we know the data is filled completely and also by knowing the mean and std of the hoodhight, it is easier to detect outliers in the following section:"
   ]
  },
  {
   "cell_type": "code",
   "execution_count": 5,
   "metadata": {},
   "outputs": [
    {
     "data": {
      "image/png": "[encoded data removed]",
      "text/plain": [
       "<Figure size 432x288 with 1 Axes>"
      ]
     },
     "metadata": {
      "needs_background": "light"
     },
     "output_type": "display_data"
    },
    {
     "data": {
      "image/png": "[encoded data removed]",
      "text/plain": [
       "<Figure size 432x288 with 1 Axes>"
      ]
     },
     "metadata": {
      "needs_background": "light"
     },
     "output_type": "display_data"
    },
    {
     "name": "stdout",
     "output_type": "stream",
     "text": [
      "Detected outliers:\n"
     ]
    },
    {
     "data": {
      "text/html": [
       "<div>\n",
       "<style scoped>\n",
       "    .dataframe tbody tr th:only-of-type {\n",
       "        vertical-align: middle;\n",
       "    }\n",
       "\n",
       "    .dataframe tbody tr th {\n",
       "        vertical-align: top;\n",
       "    }\n",
       "\n",
       "    .dataframe thead th {\n",
       "        text-align: right;\n",
       "    }\n",
       "</style>\n",
       "<table border=\"1\" class=\"dataframe\">\n",
       "  <thead>\n",
       "    <tr style=\"text-align: right;\">\n",
       "      <th></th>\n",
       "      <th>Unnamed: 0</th>\n",
       "      <th>Height</th>\n",
       "      <th>fatal</th>\n",
       "    </tr>\n",
       "  </thead>\n",
       "  <tbody>\n",
       "    <tr>\n",
       "      <th>8</th>\n",
       "      <td>8</td>\n",
       "      <td>6</td>\n",
       "      <td>1</td>\n",
       "    </tr>\n",
       "  </tbody>\n",
       "</table>\n",
       "</div>"
      ],
      "text/plain": [
       "   Unnamed: 0  Height  fatal\n",
       "8           8       6      1"
      ]
     },
     "execution_count": 5,
     "metadata": {},
     "output_type": "execute_result"
    }
   ],
   "source": [
    "#Step 3: Visualization\n",
    "\n",
    "# Distribution of hood height\n",
    "sns.histplot(df_fatal['Height'], kde=True)\n",
    "plt.title('Distribution of Hood Height')\n",
    "plt.xlabel('Hood Height (cm)')\n",
    "plt.ylabel('Frequency')\n",
    "plt.show()\n",
    "\n",
    "# Boxplot for outlier detection\n",
    "sns.boxplot(x=df_fatal['Height'])\n",
    "plt.title('Boxplot of Hood Height')\n",
    "plt.xlabel('Hood Height (cm)')\n",
    "plt.show()\n",
    "\n",
    "# Identify outliers using IQR: using the \"remove_outliers\", provide in the begining of the notebook\n",
    "outliers = outlier_removal(df_fatal,'Height') \n",
    "#remove the indexes which were diagnosed as outliers\n",
    "data_fatal_no_outliers = df_fatal.drop(outliers.index) \n",
    "print('Detected outliers:')\n",
    "outliers"
   ]
  },
  {
   "cell_type": "markdown",
   "metadata": {},
   "source": [
    "As we can see, there is a car with 6cm hoodhight, which is detected as the outlier. It is reasonable to remove it, as it doesn't mean rational anyway! :))"
   ]
  },
  {
   "cell_type": "markdown",
   "metadata": {},
   "source": [
    "#### Analyses"
   ]
  },
  {
   "cell_type": "markdown",
   "metadata": {},
   "source": [
    "<span style='color:Blue'> Here we will apply the logistic regresion analysis. First simply with pengouin handy function, to breifly get the coefficient and plot the scatter plot along side the logestic regression of the data:"
   ]
  },
  {
   "cell_type": "code",
   "execution_count": 6,
   "metadata": {},
   "outputs": [
    {
     "data": {
      "text/html": [
       "<div>\n",
       "<style scoped>\n",
       "    .dataframe tbody tr th:only-of-type {\n",
       "        vertical-align: middle;\n",
       "    }\n",
       "\n",
       "    .dataframe tbody tr th {\n",
       "        vertical-align: top;\n",
       "    }\n",
       "\n",
       "    .dataframe thead th {\n",
       "        text-align: right;\n",
       "    }\n",
       "</style>\n",
       "<table border=\"1\" class=\"dataframe\">\n",
       "  <thead>\n",
       "    <tr style=\"text-align: right;\">\n",
       "      <th></th>\n",
       "      <th>names</th>\n",
       "      <th>coef</th>\n",
       "      <th>se</th>\n",
       "      <th>z</th>\n",
       "      <th>pval</th>\n",
       "      <th>CI[2.5%]</th>\n",
       "      <th>CI[97.5%]</th>\n",
       "    </tr>\n",
       "  </thead>\n",
       "  <tbody>\n",
       "    <tr>\n",
       "      <th>0</th>\n",
       "      <td>Intercept</td>\n",
       "      <td>-5.676433</td>\n",
       "      <td>2.233945</td>\n",
       "      <td>-2.54099</td>\n",
       "      <td>0.011054</td>\n",
       "      <td>-10.054884</td>\n",
       "      <td>-1.297981</td>\n",
       "    </tr>\n",
       "    <tr>\n",
       "      <th>1</th>\n",
       "      <td>Height</td>\n",
       "      <td>0.049728</td>\n",
       "      <td>0.019246</td>\n",
       "      <td>2.58377</td>\n",
       "      <td>0.009773</td>\n",
       "      <td>0.012006</td>\n",
       "      <td>0.087450</td>\n",
       "    </tr>\n",
       "  </tbody>\n",
       "</table>\n",
       "</div>"
      ],
      "text/plain": [
       "       names      coef        se        z      pval   CI[2.5%]  CI[97.5%]\n",
       "0  Intercept -5.676433  2.233945 -2.54099  0.011054 -10.054884  -1.297981\n",
       "1     Height  0.049728  0.019246  2.58377  0.009773   0.012006   0.087450"
      ]
     },
     "execution_count": 6,
     "metadata": {},
     "output_type": "execute_result"
    }
   ],
   "source": [
    "#Step 4: Define dependent and independent variables\n",
    "X = data_fatal_no_outliers['Height']  # Independent variable\n",
    "y = data_fatal_no_outliers['fatal']   # Dependent variable\n",
    "\n",
    "lrm = pg.logistic_regression(X=X, y=y)\n",
    "lrm"
   ]
  },
  {
   "cell_type": "code",
   "execution_count": 7,
   "metadata": {},
   "outputs": [
    {
     "data": {
      "image/png": "[encoded data removed]",
      "text/plain": [
       "<Figure size 432x288 with 1 Axes>"
      ]
     },
     "metadata": {
      "needs_background": "light"
     },
     "output_type": "display_data"
    }
   ],
   "source": [
    "# Step 5: Logestic Regression plot\n",
    "\n",
    "# Scatter plot of Hood Height vs Death Outcome\n",
    "sns.scatterplot(x='Height', y='fatal', data=data_fatal_no_outliers, color=\"k\", alpha=0.7)\n",
    "plt.title('Hood Height vs Pedestrian Death')\n",
    "plt.xlabel('Hood Height (cm)')\n",
    "plt.ylabel('Pedestrian Death (1 = Died, 0 = Survived)')\n",
    "\n",
    "# Plot the fit\n",
    "params = lrm['coef'].values\n",
    "b0 = params[0]\n",
    "b1 = params[1]\n",
    "\n",
    "# First create an array of x values over which we want to plot the logistic function - makes sense to extend from the lowest to the highest temperature value\n",
    "x_range = np.linspace(np.min(X),np.max(X),1000)\n",
    "regression = 1.0 / (1.0 + np.exp(-(b1*x_range + b0)))\n",
    "plt.plot(x_range,regression,'r')\n",
    "plt.legend(['data','regression model'])\n",
    "plt.show()"
   ]
  },
  {
   "cell_type": "code",
   "execution_count": 89,
   "metadata": {},
   "outputs": [
    {
     "name": "stdout",
     "output_type": "stream",
     "text": [
      "Optimization terminated successfully.\n",
      "         Current function value: 0.563123\n",
      "         Iterations 5\n",
      "                           Logit Regression Results                           \n",
      "==============================================================================\n",
      "Dep. Variable:                  fatal   No. Observations:                   33\n",
      "Model:                          Logit   Df Residuals:                       31\n",
      "Method:                           MLE   Df Model:                            1\n",
      "Date:                Thu, 28 Nov 2024   Pseudo R-squ.:                  0.1870\n",
      "Time:                        20:06:31   Log-Likelihood:                -18.583\n",
      "converged:                       True   LL-Null:                       -22.859\n",
      "Covariance Type:            nonrobust   LLR p-value:                  0.003453\n",
      "==============================================================================\n",
      "                 coef    std err          z      P>|z|      [0.025      0.975]\n",
      "------------------------------------------------------------------------------\n",
      "const         -5.6767      2.234     -2.541      0.011     -10.055      -1.298\n",
      "Height         0.0497      0.019      2.584      0.010       0.012       0.087\n",
      "==============================================================================\n"
     ]
    }
   ],
   "source": [
    "#Step 6: Fit the logistic regression model\n",
    "\n",
    "# Add constant to the model\n",
    "X = sm.add_constant(X)\n",
    "smlogmod = sm.Logit(y, X).fit()\n",
    "print(smlogmod.summary())"
   ]
  },
  {
   "cell_type": "markdown",
   "metadata": {},
   "source": [
    "#### From the results of the Logistic Regression, we have the following key information:\n",
    "\n",
    "<span style='color:Blue'> ## Pseudo R-squared (0.1870): This is a measure of the goodness of fit. A value of 0.187 suggests the model explains about 18.7% of the variance in the data.\n",
    "\n",
    "<span style='color:Blue'> ## LLR p-value (0.003453): \n",
    "    The likelihood ratio (LLR) p-value is used to assess the overall significance of the model. Since it is below 0.05, we reject the null hypothesis that the model does not explain the data, indicating that the model is statistically significant.\n",
    "\n",
    "<span style='color:Blue'> ## Coefficients and significance: Intercept (const): -5.6767, which is the log-odds of the baseline group (when Height is 0).Height (0.0497): The coefficient for hood height is positive and significant (p-value = 0.010), indicating that as hood height increases, the log-odds of a pedestrian fatality increase.\n",
    "\n"
   ]
  },
  {
   "cell_type": "code",
   "execution_count": 90,
   "metadata": {},
   "outputs": [
    {
     "name": "stdout",
     "output_type": "stream",
     "text": [
      "Odds Ratio for Hood Height: 1.0509872979547832\n"
     ]
    }
   ],
   "source": [
    "#Step 7: Calculate odds ratio\n",
    "odds_ratio = np.exp(smlogmod.params['Height'])\n",
    "print(f\"Odds Ratio for Hood Height: {odds_ratio}\")"
   ]
  },
  {
   "cell_type": "markdown",
   "metadata": {},
   "source": [
    "<span style='color:Blue'> The above odds ratio for hood height means that for each 1 cm increase in the height of the car's front hood, the odds of a pedestrian dying in a collision increase by approximately 5.1%."
   ]
  },
  {
   "cell_type": "code",
   "execution_count": 96,
   "metadata": {},
   "outputs": [
    {
     "name": "stdout",
     "output_type": "stream",
     "text": [
      "Range Rover Probability:  0.511\n",
      "Tesla Probability:  0.142\n",
      "Odds Ratio (Range Rover vs Tesla):  6.297\n"
     ]
    }
   ],
   "source": [
    "#Step 8: Prediction\n",
    "\n",
    "#Predict probabilities for specific hood heights\n",
    "range_rover_height = 115\n",
    "tesla_height = 78\n",
    "\n",
    "# Add constant for logistic regression\n",
    "range_rover_prob = smlogmod.predict([1, range_rover_height])[0]\n",
    "tesla_prob = smlogmod.predict([1, tesla_height])[0]\n",
    "\n",
    "# Calculate odds ratio\n",
    "odds_range_rover = range_rover_prob / (1 - range_rover_prob)\n",
    "odds_tesla = tesla_prob / (1 - tesla_prob)\n",
    "odds_ratio_comparison = odds_range_rover / odds_tesla\n",
    "\n",
    "print('Range Rover Probability: ',round(range_rover_prob,3))\n",
    "print('Tesla Probability: ',round(tesla_prob,3))\n",
    "print('Odds Ratio (Range Rover vs Tesla): ', round(odds_ratio_comparison,3))"
   ]
  },
  {
   "cell_type": "markdown",
   "metadata": {},
   "source": [
    "#### Interpretation and Conclusion"
   ]
  },
  {
   "cell_type": "markdown",
   "metadata": {},
   "source": [
    "\n",
    "<span style='color:Blue'> **Take home message:**\n",
    "    \n",
    "<span style='color:Blue'> **1.Statistical Significance:** The model is statistically significant (p-value = 0.003453), indicating that the relationship between hood height and pedestrian fatalities is not due to random chance.\n",
    "\n",
    "<span style='color:Blue'> **2. odd ratio:** The above odds ratio for hood height means that for each 1 cm increase in the height of the car's front hood, the odds of a pedestrian dying in a collision increase by approximately 5.1%.\n",
    "\n",
    "<span style='color:Blue'> **3. Model Performance:** The logistic regression model provides a reasonable fit to the data, explaining around 18.7% of the variance in the likelihood of pedestrian fatalities. While this is not a very high explanatory power (indicating other factors also influence the outcome), the model is significant enough to highlight the role of hood height in fatalities.\n",
    "\n",
    "<span style='color:Blue'> **4. Other Factors:** While hood height is a significant factor, other variables, such as the speed of the vehicle, type of vehicle (SUV vs. sedan), and pedestrian characteristics (age, health) should also be considered for a more comprehensive understanding of pedestrian safety. Future models could incorporate these additional factors to improve predictions and inform better safety measures."
   ]
  },
  {
   "cell_type": "markdown",
   "metadata": {},
   "source": [
    "### Q2: Rehabilitation with an ExoSkeleton\n",
    "\n",
    "In the file ExoRehab.xlsx you will find clinical assessment data of 45 stroke patients. All of these patients have undergone physical therapy rehabilitation over the course of a 6 month period, and a rehabilitation engineering researcher has asked for 15 of them to undergo additional treatment with an exoskeleton walking aid (\"Ex1\") which has been on the market for 5 years, and for another 15 of them to undergo additional treatment with a new, smarter Exoskeleton (\"Ex2\") that models individual gait through muscle synergy analysis. Clinical assessments are conducted both before and after the 6-month period, and these assessments are done by qualified clinicians who are independent from the study and have not seen what treatment the patients will get or have gotten. Their assessment takes into account multiple factors such as walking speed, consistency and balance, and produces an overall score out of 100, the greater the better. The data include the clinical assessment \"ScoreBefore\" (at the start of the 6 months) and \"ScoreAfter\" (at the end of the 6 months), the group assignment (\"noEx,\" \"Ex1,\" \"Ex2\"), and for extra information, a record of how many hours of rehabilitation in total, each subject has undergone. The researcher wants to know whether either one of the exoskeletons causes an improvement in this walking performance score relative to patients who have undergone regular rehabilitation regimes without any exoskeleton, and also whether either Exoskeleton is better than the other. \n",
    "\n",
    "Test these questions, starting with the general hypothesis that the level of improvement across the 3 groups is not the same. Clearly show and justify how you have derived a single dependent variable form the data and formed a complete statistical model/test. Once you have finished your full analysis, you may explore how the outcome and conclusions may have been different had you carried out the analysis differently, as long as you clearly label it as \"post-analysis exploration\" for educational purposes.<br> \n",
    "With reference to 'blinding,' from the description above, can you say that this study will be fully unbiased, or only partially so, and where might biases still occur?\n",
    "\n",
    "#### Variables, analysis plan and motivation"
   ]
  },
  {
   "cell_type": "markdown",
   "metadata": {},
   "source": [
    "### Variables, Analysis Plan, and Motivation\n",
    "\n",
    "---\n",
    "\n",
    "<span style='color:Blue'> **Set Up the Hypotheses:**\n",
    "\n",
    "1. **General Hypothesis:**\n",
    "   - **Null Hypothesis (H₀):** The level of improvement in walking performance scores is the same across the three groups (noEx, Ex1, Ex2).  \n",
    "   - **Alternative Hypothesis (H₁):** At least one of the groups (noEx, Ex1, Ex2) shows a different level of improvement in walking performance scores.\n",
    "\n",
    "---\n",
    "\n",
    "<span style='color:Blue'> **Variables:**\n",
    "\n",
    "- **Dependent Variable:** Define a new parameter called **Improvement** which is: `ScoreAfter - ScoreBefore`\n",
    "- **Independent Variable:** Treatment Group (categorical: `noEx`, `Ex1`, `Ex2`).\n",
    "- **Covariate:** Total hours of rehabilitation (`TotalRehabHrs`) to control for any differences in rehabilitation exposure across subjects.\n",
    "\n",
    "---\n",
    "\n",
    "<span style='color:Blue'> **Plan:**\n",
    "\n",
    "- Conduct a t-test to compare scores before and after the rehabilation sessions, regardless of method of treatment.\n",
    "- Conduct paired t-test for each of the conditions to test with-in improvement in each treatment type.\n",
    "- Conduct One-Way ANOVA to compare improvement between the groups (Exo) based on the \"improvement\" score.\n",
    "- Conduct ANCOVA to adjust for \"TotalRehabHrs\" as a covariate, to account for varying rehabilitation times between participants.\n",
    "- Conduct Linear Regression to test for significant interaction effects between RehabHours and Group:\n",
    "    > the regression will be modeled first with 1 factor of treatment type (Exo), then 2 factor (Exo and TotalRehabHrs) and then adding their interaction as well\n",
    "\n",
    "---\n",
    "\n",
    "<span style='color:Blue'> **Reason for Choosing These Tests:**\n",
    "\n",
    "1. **t test** is appropriate as we want to compare two set of scores (before/after), which has continuous type.\n",
    "2. **One-Way ANOVA** is appropriate because:\n",
    "   - The independent variable (group assignment) has three categories.\n",
    "   - The dependent variable (improvement score) is continuous.\n",
    "3. **ANCOVA** is appropriate to control for the potential confounding effect of total rehabilitation hours on improvement scores.\n",
    "4. **Linear Regression** to test the effect of different parameters and also their interaction. The final model can also help us in estimation the outcome of unseen data.  \n",
    "\n",
    "---\n",
    "\n",
    "<span style='color:Blue'> **Preliminary Analyses:**\n",
    "    \n",
    "1. **Descriptive Statistics:** Calculate mean, standard deviation, median, IQR, and range for `Improvement` within each group.\n",
    "2. **Outlier Detection:** Use the IQR method to detect and remove outliers for `ScoreBefore`, `ScoreAfter`, and `Improvement`.\n",
    "3. **Assumption Checks:**\n",
    "   - **Normality:** Shapiro-Wilk test and/or Q-Q plots for each group.\n",
    "   - **Homogeneity of Variance:** Levene’s test for equality of variances across groups.\n",
    "4. **Data Visualization:** Boxplots and histograms to support exploratory understanding of group differences.\n",
    "\n",
    "---\n",
    "\n",
    "<span style='color:Blue'> **Post-hoc and Interpretation:**\n",
    "\n",
    "1. If t-test and One-Way ANOVA are Significant, I will perform post-hoc tests to identify specific pairwise group differences (e.g., noEx vs. Ex1, noEx vs. Ex2, Ex1 vs. Ex2).\n",
    "\n",
    "2. **If ANCOVA is Used:**\n",
    "   - Report how rehabilitation hours influence improvement scores and whether the group differences remain significant after adjusting for this covariate.\n",
    "\n",
    "---\n",
    "\n",
    "<span style='color:Blue'> **Blinding and Bias:**\n",
    "\n",
    "1. The clinical assessment process is blinded, as the clinicians do not know the group assignments of the patients. This reduces potential bias during the evaluation.\n",
    "2. However, the study is only **partially blinded**, as the patients themselves know their treatment assignments, which could introduce placebo effects or behavioral changes (e.g., higher motivation in Ex1 or Ex2 groups).\n",
    "3. Bias may also arise from:\n",
    "   - Differences in adherence to the therapy protocol across groups.\n",
    "   - Unequal distribution of confounding factors (e.g., severity of initial condition, rehab hours).\n",
    "\n",
    "---\n",
    "\n",
    "<span style='color:Blue'> **Post-Analysis Exploration:**\n",
    "\n",
    "1. Compare results with a non-parametric test (e.g., Kruskal-Wallis) to explore robustness against violations of ANOVA assumptions.\n",
    "2. Evaluate potential interactions between rehabilitation hours and group assignment (e.g., is Ex2 more effective for patients with higher rehab hours?).\n",
    "3. Investigate if other baseline variables (e.g., initial assessment score) influence the results."
   ]
  },
  {
   "cell_type": "code",
   "execution_count": 4,
   "metadata": {},
   "outputs": [
    {
     "data": {
      "text/html": [
       "<div>\n",
       "<style scoped>\n",
       "    .dataframe tbody tr th:only-of-type {\n",
       "        vertical-align: middle;\n",
       "    }\n",
       "\n",
       "    .dataframe tbody tr th {\n",
       "        vertical-align: top;\n",
       "    }\n",
       "\n",
       "    .dataframe thead th {\n",
       "        text-align: right;\n",
       "    }\n",
       "</style>\n",
       "<table border=\"1\" class=\"dataframe\">\n",
       "  <thead>\n",
       "    <tr style=\"text-align: right;\">\n",
       "      <th></th>\n",
       "      <th>Exo</th>\n",
       "      <th>ScoreBefore</th>\n",
       "      <th>ScoreAfter</th>\n",
       "      <th>TotalRehabHrs</th>\n",
       "      <th>Improvement</th>\n",
       "    </tr>\n",
       "  </thead>\n",
       "  <tbody>\n",
       "    <tr>\n",
       "      <th>0</th>\n",
       "      <td>noEx</td>\n",
       "      <td>15.3</td>\n",
       "      <td>43.4</td>\n",
       "      <td>128.2</td>\n",
       "      <td>28.1</td>\n",
       "    </tr>\n",
       "    <tr>\n",
       "      <th>1</th>\n",
       "      <td>noEx</td>\n",
       "      <td>17.1</td>\n",
       "      <td>33.7</td>\n",
       "      <td>62.7</td>\n",
       "      <td>16.6</td>\n",
       "    </tr>\n",
       "    <tr>\n",
       "      <th>2</th>\n",
       "      <td>noEx</td>\n",
       "      <td>17.6</td>\n",
       "      <td>27.4</td>\n",
       "      <td>89.7</td>\n",
       "      <td>9.8</td>\n",
       "    </tr>\n",
       "    <tr>\n",
       "      <th>3</th>\n",
       "      <td>noEx</td>\n",
       "      <td>23.8</td>\n",
       "      <td>51.7</td>\n",
       "      <td>120.7</td>\n",
       "      <td>27.9</td>\n",
       "    </tr>\n",
       "    <tr>\n",
       "      <th>4</th>\n",
       "      <td>noEx</td>\n",
       "      <td>27.4</td>\n",
       "      <td>40.4</td>\n",
       "      <td>90.9</td>\n",
       "      <td>13.0</td>\n",
       "    </tr>\n",
       "  </tbody>\n",
       "</table>\n",
       "</div>"
      ],
      "text/plain": [
       "    Exo  ScoreBefore  ScoreAfter  TotalRehabHrs  Improvement\n",
       "0  noEx         15.3        43.4          128.2         28.1\n",
       "1  noEx         17.1        33.7           62.7         16.6\n",
       "2  noEx         17.6        27.4           89.7          9.8\n",
       "3  noEx         23.8        51.7          120.7         27.9\n",
       "4  noEx         27.4        40.4           90.9         13.0"
      ]
     },
     "execution_count": 4,
     "metadata": {},
     "output_type": "execute_result"
    }
   ],
   "source": [
    "#Step : Load the dataset\n",
    "df_rehab = pd.read_excel('ExoRehab.xlsx')\n",
    "\n",
    "# Create a new column for the improvement score\n",
    "df_rehab['Improvement'] = df_rehab['ScoreAfter'] - df_rehab['ScoreBefore']\n",
    "\n",
    "# Check the newly created 'Improvement' column\n",
    "df_rehab.head()"
   ]
  },
  {
   "cell_type": "markdown",
   "metadata": {},
   "source": [
    "#### Summary Statistics and Graphs"
   ]
  },
  {
   "cell_type": "code",
   "execution_count": 5,
   "metadata": {},
   "outputs": [
    {
     "data": {
      "text/html": [
       "<div>\n",
       "<style scoped>\n",
       "    .dataframe tbody tr th:only-of-type {\n",
       "        vertical-align: middle;\n",
       "    }\n",
       "\n",
       "    .dataframe tbody tr th {\n",
       "        vertical-align: top;\n",
       "    }\n",
       "\n",
       "    .dataframe thead tr th {\n",
       "        text-align: left;\n",
       "    }\n",
       "\n",
       "    .dataframe thead tr:last-of-type th {\n",
       "        text-align: right;\n",
       "    }\n",
       "</style>\n",
       "<table border=\"1\" class=\"dataframe\">\n",
       "  <thead>\n",
       "    <tr>\n",
       "      <th></th>\n",
       "      <th colspan=\"4\" halign=\"left\">ScoreBefore</th>\n",
       "      <th colspan=\"4\" halign=\"left\">ScoreAfter</th>\n",
       "    </tr>\n",
       "    <tr>\n",
       "      <th></th>\n",
       "      <th>mean</th>\n",
       "      <th>std</th>\n",
       "      <th>min</th>\n",
       "      <th>max</th>\n",
       "      <th>mean</th>\n",
       "      <th>std</th>\n",
       "      <th>min</th>\n",
       "      <th>max</th>\n",
       "    </tr>\n",
       "    <tr>\n",
       "      <th>Exo</th>\n",
       "      <th></th>\n",
       "      <th></th>\n",
       "      <th></th>\n",
       "      <th></th>\n",
       "      <th></th>\n",
       "      <th></th>\n",
       "      <th></th>\n",
       "      <th></th>\n",
       "    </tr>\n",
       "  </thead>\n",
       "  <tbody>\n",
       "    <tr>\n",
       "      <th>Ex1</th>\n",
       "      <td>18.54</td>\n",
       "      <td>5.19</td>\n",
       "      <td>7.4</td>\n",
       "      <td>28.0</td>\n",
       "      <td>50.77</td>\n",
       "      <td>8.93</td>\n",
       "      <td>36.1</td>\n",
       "      <td>72.4</td>\n",
       "    </tr>\n",
       "    <tr>\n",
       "      <th>Ex2</th>\n",
       "      <td>19.49</td>\n",
       "      <td>4.71</td>\n",
       "      <td>8.1</td>\n",
       "      <td>28.0</td>\n",
       "      <td>60.73</td>\n",
       "      <td>8.14</td>\n",
       "      <td>39.8</td>\n",
       "      <td>72.2</td>\n",
       "    </tr>\n",
       "    <tr>\n",
       "      <th>noEx</th>\n",
       "      <td>19.71</td>\n",
       "      <td>3.51</td>\n",
       "      <td>14.7</td>\n",
       "      <td>27.4</td>\n",
       "      <td>42.21</td>\n",
       "      <td>6.92</td>\n",
       "      <td>27.4</td>\n",
       "      <td>51.7</td>\n",
       "    </tr>\n",
       "  </tbody>\n",
       "</table>\n",
       "</div>"
      ],
      "text/plain": [
       "     ScoreBefore                   ScoreAfter                  \n",
       "            mean   std   min   max       mean   std   min   max\n",
       "Exo                                                            \n",
       "Ex1        18.54  5.19   7.4  28.0      50.77  8.93  36.1  72.4\n",
       "Ex2        19.49  4.71   8.1  28.0      60.73  8.14  39.8  72.2\n",
       "noEx       19.71  3.51  14.7  27.4      42.21  6.92  27.4  51.7"
      ]
     },
     "execution_count": 5,
     "metadata": {},
     "output_type": "execute_result"
    }
   ],
   "source": [
    "#Step 2: Over view of the dataset\n",
    "\n",
    "# Generate summary statistics for each group (Exo) for the 'ScoreBefore' and 'ScoreAfter' columns\n",
    "\n",
    "grouped_summary_stats = df_rehab.groupby('Exo')[['ScoreBefore', 'ScoreAfter']].agg(['mean', 'std', 'min', 'max'])\n",
    "grouped_summary_stats = grouped_summary_stats.round(2)\n",
    "grouped_summary_stats\n"
   ]
  },
  {
   "cell_type": "markdown",
   "metadata": {},
   "source": [
    "<span style='color:Blue'> These statistical parameters can give us a brief overview of scores before and after treatment"
   ]
  },
  {
   "cell_type": "code",
   "execution_count": 6,
   "metadata": {},
   "outputs": [
    {
     "data": {
      "image/png": "[encoded data removed]",
      "text/plain": [
       "<Figure size 864x576 with 3 Axes>"
      ]
     },
     "metadata": {
      "needs_background": "light"
     },
     "output_type": "display_data"
    }
   ],
   "source": [
    "#Step 3.1: Visualization\n",
    "\n",
    "# plot the scatterplot of before and after score for each of the groups >> show casing paired ttest\n",
    "\n",
    "groups = df_rehab['Exo'].unique()\n",
    "plt.figure(figsize=(12, 8))\n",
    "\n",
    "# Create subplots: one for each group \n",
    "for i, group in enumerate(groups, 1):\n",
    "    \n",
    "    plt.subplot(1, len(groups), i)\n",
    "    \n",
    "    # Filter the data for the current group\n",
    "    group_data = df_rehab[df_rehab['Exo'] == group]\n",
    "    \n",
    "    # Plot 'ScoreBefore' and 'ScoreAfter' as separate scatter points on the same plot\n",
    "    sns.scatterplot(x=[0] * group_data.shape[0], y=group_data['ScoreBefore'], s=100, marker='o', label='Score Before', color='blue')\n",
    "    sns.scatterplot(x=[1] * group_data.shape[0], y=group_data['ScoreAfter'], s=100, marker='o', label='Score After', color='red')\n",
    "    \n",
    "    # Connect the points with lines from 'ScoreBefore' to 'ScoreAfter' \n",
    "    for j in range(group_data.shape[0]):\n",
    "        plt.plot([0, 1], [group_data['ScoreBefore'].iloc[j], group_data['ScoreAfter'].iloc[j]], color='gray', linestyle='-', linewidth=0.7)\n",
    "\n",
    "    plt.title(f'{group} Treatment')\n",
    "    plt.xticks([0, 1], ['Before', 'After'])  # Label the x-axis as 'Before' and 'After'\n",
    "    plt.ylabel('Score')\n",
    "    plt.legend()\n",
    "\n",
    "plt.show()\n"
   ]
  },
  {
   "cell_type": "markdown",
   "metadata": {},
   "source": [
    "<span style='color:Blue'> Comparing before-after scores visually, we can observe noticable improvement in all 3 rehabilation groups. However, we want to test it more specifically"
   ]
  },
  {
   "cell_type": "code",
   "execution_count": 7,
   "metadata": {},
   "outputs": [
    {
     "data": {
      "image/png": "[encoded data removed]",
      "text/plain": [
       "<Figure size 432x288 with 1 Axes>"
      ]
     },
     "metadata": {
      "needs_background": "light"
     },
     "output_type": "display_data"
    }
   ],
   "source": [
    "#Step 3.2: Visualization\n",
    "# Plotting each group improvment \n",
    "\n",
    "sns.boxplot(x='Exo', y='Improvement', data=df_rehab)\n",
    "plt.title('Improvement in Walking Score by Treatment Group')\n",
    "plt.xlabel('Treatment Group')\n",
    "plt.ylabel('Improvement in Walking Score')\n",
    "plt.show()\n"
   ]
  },
  {
   "cell_type": "markdown",
   "metadata": {},
   "source": [
    "<span style='color:Blue'> the bar plots shows more clear, probably significant, difference among 3 groups. So we need to explore it more:"
   ]
  },
  {
   "cell_type": "markdown",
   "metadata": {},
   "source": [
    "<span style='color:Blue'> "
   ]
  },
  {
   "cell_type": "markdown",
   "metadata": {},
   "source": [
    "#### Analyses"
   ]
  },
  {
   "cell_type": "code",
   "execution_count": 8,
   "metadata": {},
   "outputs": [],
   "source": [
    "# This function will check the normality and homoscedasticity of the data distribution and print out the result\n",
    "\n",
    "from scipy.stats import shapiro\n",
    "\n",
    "def distribution_test(data, DV, IV): #DV: Dependent Variable / #IV:Independent Variable\n",
    "    \n",
    "    alpha_level = 0.05\n",
    "    \n",
    "    # Shapiro-Wilk test for normality checking\n",
    "    dv = data[DV]\n",
    "    stat, p_normality = shapiro(dv)\n",
    "    \n",
    "    # Levene's test for homoscedasticity checking\n",
    "    levene = pg.homoscedasticity(data, dv=DV, group=IV, method = 'levene')\n",
    "    p_homoscedasticity = np.array(levene['pval'])\n",
    "    \n",
    "    if p_normality > alpha_level:\n",
    "        print(\"Data is likely normally distributed\")\n",
    "    else:\n",
    "        print(\"Data is likely not normally distributed\")\n",
    "    \n",
    "    if p_homoscedasticity > alpha_level:\n",
    "        print(\"Data is likely to have equal variance for all groups\")\n",
    "    else:\n",
    "        print(\"Data is likely to  don't have equal variance for all groups\")\n",
    "    \n",
    "    \n",
    "    return p_normality, p_homoscedasticity"
   ]
  },
  {
   "cell_type": "code",
   "execution_count": 9,
   "metadata": {},
   "outputs": [
    {
     "name": "stdout",
     "output_type": "stream",
     "text": [
      "Checking scores before rehabilation:\n",
      "Data is likely normally distributed\n",
      "Data is likely to have equal variance for all groups\n",
      "Shapiro-Wilk Test:  0.32904013991355896  and the homoscedasticity p-value= [0.69876579]\n",
      "\n",
      "Checking scores after rehabilation:\n",
      "Data is likely normally distributed\n",
      "Data is likely to have equal variance for all groups\n",
      "Shapiro-Wilk Test:  0.8496323227882385  and the homoscedasticity p-value= [0.9012366]\n"
     ]
    }
   ],
   "source": [
    "#Step 4: Assumption Checks for t-test and ANOVA\n",
    "\n",
    "print('Checking scores before rehabilation:')\n",
    "[p_normality, p_homoscedasticity]= distribution_test(df_rehab,'ScoreBefore','Exo')\n",
    "print('Shapiro-Wilk Test: ', p_normality, ' and the homoscedasticity p-value=',  p_homoscedasticity)\n",
    "\n",
    "print('\\nChecking scores after rehabilation:')\n",
    "[p_normality, p_homoscedasticity]= distribution_test(df_rehab,'ScoreAfter','Exo')\n",
    "print('Shapiro-Wilk Test: ', p_normality, ' and the homoscedasticity p-value=',  p_homoscedasticity)"
   ]
  },
  {
   "cell_type": "markdown",
   "metadata": {},
   "source": [
    "<span style='color:Blue'> "
   ]
  },
  {
   "cell_type": "code",
   "execution_count": 13,
   "metadata": {},
   "outputs": [
    {
     "name": "stderr",
     "output_type": "stream",
     "text": [
      "C:\\Users\\sajede\\anaconda3\\lib\\site-packages\\scipy\\stats\\_continuous_distns.py:6832: RuntimeWarning: invalid value encountered in _nct_sf\n",
      "  return np.clip(_boost._nct_sf(x, df, nc), 0, 1)\n",
      "C:\\Users\\sajede\\anaconda3\\lib\\site-packages\\scipy\\stats\\_continuous_distns.py:6826: RuntimeWarning: invalid value encountered in _nct_cdf\n",
      "  return np.clip(_boost._nct_cdf(x, df, nc), 0, 1)\n"
     ]
    },
    {
     "data": {
      "text/html": [
       "<div>\n",
       "<style scoped>\n",
       "    .dataframe tbody tr th:only-of-type {\n",
       "        vertical-align: middle;\n",
       "    }\n",
       "\n",
       "    .dataframe tbody tr th {\n",
       "        vertical-align: top;\n",
       "    }\n",
       "\n",
       "    .dataframe thead th {\n",
       "        text-align: right;\n",
       "    }\n",
       "</style>\n",
       "<table border=\"1\" class=\"dataframe\">\n",
       "  <thead>\n",
       "    <tr style=\"text-align: right;\">\n",
       "      <th></th>\n",
       "      <th>T</th>\n",
       "      <th>dof</th>\n",
       "      <th>alternative</th>\n",
       "      <th>p-val</th>\n",
       "      <th>CI95%</th>\n",
       "      <th>cohen-d</th>\n",
       "      <th>BF10</th>\n",
       "      <th>power</th>\n",
       "    </tr>\n",
       "  </thead>\n",
       "  <tbody>\n",
       "    <tr>\n",
       "      <th>T-test</th>\n",
       "      <td>-19.561777</td>\n",
       "      <td>44</td>\n",
       "      <td>two-sided</td>\n",
       "      <td>2.479637e-23</td>\n",
       "      <td>[-35.28, -28.69]</td>\n",
       "      <td>3.82286</td>\n",
       "      <td>1.517e+20</td>\n",
       "      <td>1.0</td>\n",
       "    </tr>\n",
       "  </tbody>\n",
       "</table>\n",
       "</div>"
      ],
      "text/plain": [
       "                T  dof alternative         p-val             CI95%  cohen-d  \\\n",
       "T-test -19.561777   44   two-sided  2.479637e-23  [-35.28, -28.69]  3.82286   \n",
       "\n",
       "             BF10  power  \n",
       "T-test  1.517e+20    1.0  "
      ]
     },
     "execution_count": 13,
     "metadata": {},
     "output_type": "execute_result"
    }
   ],
   "source": [
    "#Step 5: Perform paired t-test to compare ScoreBefore vs ScoreAfter over all rehabilitation methods\n",
    "#group_data = df_rehab[df_rehab['Exo']\n",
    "result = pg.ttest(df_rehab['ScoreBefore'], df_rehab['ScoreAfter'], paired=True)\n",
    "result"
   ]
  },
  {
   "cell_type": "markdown",
   "metadata": {},
   "source": [
    "<span style='color:Blue'> Regarding the above results, it is obviouse that there is significant difference in patient gates after rehabilitation sessions (P-value <0.05, CI range not containing zero, large effect size and power)  "
   ]
  },
  {
   "cell_type": "code",
   "execution_count": 127,
   "metadata": {},
   "outputs": [
    {
     "name": "stdout",
     "output_type": "stream",
     "text": [
      "paired t-test for noEx\n",
      "               p-val   cohen-d\n",
      "T-test  3.869286e-09  4.103928\n",
      "\n",
      "\n",
      "paired t-test for Ex1\n",
      "               p-val   cohen-d\n",
      "T-test  8.136356e-10  4.412824\n",
      "\n",
      "\n",
      "paired t-test for Ex2\n",
      "               p-val   cohen-d\n",
      "T-test  1.969647e-11  6.199228\n",
      "\n",
      "\n"
     ]
    }
   ],
   "source": [
    "#Step 6: Perform paired t-test within each group (Exo) to compare ScoreBefore vs ScoreAfter\n",
    "for group in df_rehab['Exo'].unique():\n",
    "    group_data = df_rehab[df_rehab['Exo'] == group]\n",
    "    t_result = pg.ttest(group_data['ScoreBefore'], group_data['ScoreAfter'], paired=True)\n",
    "    print('paired t-test for',group)\n",
    "    print(t_result[['p-val', 'cohen-d']])  # Print significane (p-value) and effect size (Cohen's d) for each group\n",
    "    print(\"\\n\")"
   ]
  },
  {
   "cell_type": "markdown",
   "metadata": {},
   "source": [
    "<span style='color:Blue'> as expected, each group also shows the significant improvement. Then, we will check how significantly different effect these methods can have for patients. So, ANOVA will be used for more than 2 groups comparison: "
   ]
  },
  {
   "cell_type": "code",
   "execution_count": 129,
   "metadata": {},
   "outputs": [
    {
     "data": {
      "text/html": [
       "<div>\n",
       "<style scoped>\n",
       "    .dataframe tbody tr th:only-of-type {\n",
       "        vertical-align: middle;\n",
       "    }\n",
       "\n",
       "    .dataframe tbody tr th {\n",
       "        vertical-align: top;\n",
       "    }\n",
       "\n",
       "    .dataframe thead th {\n",
       "        text-align: right;\n",
       "    }\n",
       "</style>\n",
       "<table border=\"1\" class=\"dataframe\">\n",
       "  <thead>\n",
       "    <tr style=\"text-align: right;\">\n",
       "      <th></th>\n",
       "      <th>Source</th>\n",
       "      <th>ddof1</th>\n",
       "      <th>ddof2</th>\n",
       "      <th>F</th>\n",
       "      <th>p-unc</th>\n",
       "      <th>np2</th>\n",
       "    </tr>\n",
       "  </thead>\n",
       "  <tbody>\n",
       "    <tr>\n",
       "      <th>0</th>\n",
       "      <td>Exo</td>\n",
       "      <td>2</td>\n",
       "      <td>42</td>\n",
       "      <td>20.783952</td>\n",
       "      <td>5.313803e-07</td>\n",
       "      <td>0.497415</td>\n",
       "    </tr>\n",
       "  </tbody>\n",
       "</table>\n",
       "</div>"
      ],
      "text/plain": [
       "  Source  ddof1  ddof2          F         p-unc       np2\n",
       "0    Exo      2     42  20.783952  5.313803e-07  0.497415"
      ]
     },
     "execution_count": 129,
     "metadata": {},
     "output_type": "execute_result"
    }
   ],
   "source": [
    "#Step 7: Perform One-Way ANOVA to compare improvement between the groups (Exo) based on the \"improvement\" score\n",
    "anova_result = pg.anova(data=df_rehab, dv='Improvement', between='Exo')\n",
    "anova_result "
   ]
  },
  {
   "cell_type": "markdown",
   "metadata": {},
   "source": [
    "<span style='color:Blue'> based on the above method, there is significant difference between different rehabilitation methods with significant p-value and large Partial Eta Squared (np2) which shows that 49.7% of the variance in the dependent variable (improvement in walking performance score) is explained by the group differences, indicating a very strong effect size. This results require further analysis for pairwise comparision to see which method is making the most significant different:"
   ]
  },
  {
   "cell_type": "code",
   "execution_count": 140,
   "metadata": {},
   "outputs": [
    {
     "data": {
      "text/html": [
       "<div>\n",
       "<style scoped>\n",
       "    .dataframe tbody tr th:only-of-type {\n",
       "        vertical-align: middle;\n",
       "    }\n",
       "\n",
       "    .dataframe tbody tr th {\n",
       "        vertical-align: top;\n",
       "    }\n",
       "\n",
       "    .dataframe thead th {\n",
       "        text-align: right;\n",
       "    }\n",
       "</style>\n",
       "<table border=\"1\" class=\"dataframe\">\n",
       "  <thead>\n",
       "    <tr style=\"text-align: right;\">\n",
       "      <th></th>\n",
       "      <th>Contrast</th>\n",
       "      <th>A</th>\n",
       "      <th>B</th>\n",
       "      <th>Paired</th>\n",
       "      <th>Parametric</th>\n",
       "      <th>T</th>\n",
       "      <th>dof</th>\n",
       "      <th>alternative</th>\n",
       "      <th>p-unc</th>\n",
       "      <th>p-corr</th>\n",
       "      <th>p-adjust</th>\n",
       "      <th>BF10</th>\n",
       "      <th>hedges</th>\n",
       "    </tr>\n",
       "  </thead>\n",
       "  <tbody>\n",
       "    <tr>\n",
       "      <th>0</th>\n",
       "      <td>Exo</td>\n",
       "      <td>Ex1</td>\n",
       "      <td>Ex2</td>\n",
       "      <td>False</td>\n",
       "      <td>True</td>\n",
       "      <td>-2.906311</td>\n",
       "      <td>28.0</td>\n",
       "      <td>two-sided</td>\n",
       "      <td>7.073061e-03</td>\n",
       "      <td>2.121918e-02</td>\n",
       "      <td>bonf</td>\n",
       "      <td>6.612</td>\n",
       "      <td>-1.032553</td>\n",
       "    </tr>\n",
       "    <tr>\n",
       "      <th>1</th>\n",
       "      <td>Exo</td>\n",
       "      <td>Ex1</td>\n",
       "      <td>noEx</td>\n",
       "      <td>False</td>\n",
       "      <td>True</td>\n",
       "      <td>3.434188</td>\n",
       "      <td>28.0</td>\n",
       "      <td>two-sided</td>\n",
       "      <td>1.869897e-03</td>\n",
       "      <td>5.609691e-03</td>\n",
       "      <td>bonf</td>\n",
       "      <td>18.675</td>\n",
       "      <td>1.220097</td>\n",
       "    </tr>\n",
       "    <tr>\n",
       "      <th>2</th>\n",
       "      <td>Exo</td>\n",
       "      <td>Ex2</td>\n",
       "      <td>noEx</td>\n",
       "      <td>False</td>\n",
       "      <td>True</td>\n",
       "      <td>6.744785</td>\n",
       "      <td>28.0</td>\n",
       "      <td>two-sided</td>\n",
       "      <td>2.529049e-07</td>\n",
       "      <td>7.587148e-07</td>\n",
       "      <td>bonf</td>\n",
       "      <td>4.097e+04</td>\n",
       "      <td>2.396284</td>\n",
       "    </tr>\n",
       "  </tbody>\n",
       "</table>\n",
       "</div>"
      ],
      "text/plain": [
       "  Contrast    A     B  Paired  Parametric         T   dof alternative  \\\n",
       "0      Exo  Ex1   Ex2   False        True -2.906311  28.0   two-sided   \n",
       "1      Exo  Ex1  noEx   False        True  3.434188  28.0   two-sided   \n",
       "2      Exo  Ex2  noEx   False        True  6.744785  28.0   two-sided   \n",
       "\n",
       "          p-unc        p-corr p-adjust       BF10    hedges  \n",
       "0  7.073061e-03  2.121918e-02     bonf      6.612 -1.032553  \n",
       "1  1.869897e-03  5.609691e-03     bonf     18.675  1.220097  \n",
       "2  2.529049e-07  7.587148e-07     bonf  4.097e+04  2.396284  "
      ]
     },
     "execution_count": 140,
     "metadata": {},
     "output_type": "execute_result"
    }
   ],
   "source": [
    "#Step 8: Post-hoc analysis to compare each pair of treatments\n",
    "post_hoc_result = pg.pairwise_tests(data=df_rehab, dv='Improvement', between='Exo', padjust='bonf')\n",
    "post_hoc_result"
   ]
  },
  {
   "cell_type": "markdown",
   "metadata": {},
   "source": [
    "<span style='color:Blue'> All comparisons show statistically significant differences after applying the Bonferroni correction (p-adjusted < 0.05). Moreover, the Ex2 treatment appears to be the most effective compared to both Ex1 and noEx, with very strong evidence (high BF10). As the Bonferroni correction is very conservative, it is used to ensure that the results are robust\n",
    "                                                                                                                                 "
   ]
  },
  {
   "cell_type": "code",
   "execution_count": 141,
   "metadata": {},
   "outputs": [
    {
     "data": {
      "text/html": [
       "<div>\n",
       "<style scoped>\n",
       "    .dataframe tbody tr th:only-of-type {\n",
       "        vertical-align: middle;\n",
       "    }\n",
       "\n",
       "    .dataframe tbody tr th {\n",
       "        vertical-align: top;\n",
       "    }\n",
       "\n",
       "    .dataframe thead th {\n",
       "        text-align: right;\n",
       "    }\n",
       "</style>\n",
       "<table border=\"1\" class=\"dataframe\">\n",
       "  <thead>\n",
       "    <tr style=\"text-align: right;\">\n",
       "      <th></th>\n",
       "      <th>Source</th>\n",
       "      <th>SS</th>\n",
       "      <th>DF</th>\n",
       "      <th>F</th>\n",
       "      <th>p-unc</th>\n",
       "      <th>np2</th>\n",
       "    </tr>\n",
       "  </thead>\n",
       "  <tbody>\n",
       "    <tr>\n",
       "      <th>0</th>\n",
       "      <td>Exo</td>\n",
       "      <td>1236.533597</td>\n",
       "      <td>2</td>\n",
       "      <td>16.489909</td>\n",
       "      <td>0.000006</td>\n",
       "      <td>0.445795</td>\n",
       "    </tr>\n",
       "    <tr>\n",
       "      <th>1</th>\n",
       "      <td>TotalRehabHrs</td>\n",
       "      <td>1123.463239</td>\n",
       "      <td>1</td>\n",
       "      <td>29.964098</td>\n",
       "      <td>0.000002</td>\n",
       "      <td>0.422243</td>\n",
       "    </tr>\n",
       "    <tr>\n",
       "      <th>2</th>\n",
       "      <td>Residual</td>\n",
       "      <td>1537.239428</td>\n",
       "      <td>41</td>\n",
       "      <td>NaN</td>\n",
       "      <td>NaN</td>\n",
       "      <td>NaN</td>\n",
       "    </tr>\n",
       "  </tbody>\n",
       "</table>\n",
       "</div>"
      ],
      "text/plain": [
       "          Source           SS  DF          F     p-unc       np2\n",
       "0            Exo  1236.533597   2  16.489909  0.000006  0.445795\n",
       "1  TotalRehabHrs  1123.463239   1  29.964098  0.000002  0.422243\n",
       "2       Residual  1537.239428  41        NaN       NaN       NaN"
      ]
     },
     "execution_count": 141,
     "metadata": {},
     "output_type": "execute_result"
    }
   ],
   "source": [
    "#Step 9: Control for the potential confounding effect of total rehabilitation hours\n",
    "pg.ancova(data=df_rehab, dv='Improvement', between='Exo', covar='TotalRehabHrs')"
   ]
  },
  {
   "cell_type": "markdown",
   "metadata": {},
   "source": [
    "<span style='color:Blue'> Both the exoskeleton type (Exo) and the number of rehab hours (TotalRehabHrs) have significant main effects on improvement. ANCOVA suggests that the differences in improvement scores are not only due to the exoskeleton type but also influenced by the number of rehabilitation hours each patient underwent. So we should check for the interaction. In this regard, 3 different regression model will be conducted as the following:\n",
    "    \n",
    "   <span style='color:Blue'>  1. one factor, just assuming the effect of rehab methods\n",
    "       \n",
    "   <span style='color:Blue'>  2. two factors, considering both rehab methods as well as rehab time\n",
    "       \n",
    "   <span style='color:Blue'> 3. adding the inter-action term \n"
   ]
  },
  {
   "cell_type": "code",
   "execution_count": 21,
   "metadata": {},
   "outputs": [
    {
     "name": "stdout",
     "output_type": "stream",
     "text": [
      "                            OLS Regression Results                            \n",
      "==============================================================================\n",
      "Dep. Variable:            Improvement   R-squared:                       0.497\n",
      "Model:                            OLS   Adj. R-squared:                  0.473\n",
      "Method:                 Least Squares   F-statistic:                     20.78\n",
      "Date:                Mon, 02 Dec 2024   Prob (F-statistic):           5.31e-07\n",
      "Time:                        20:24:40   Log-Likelihood:                -155.65\n",
      "No. Observations:                  45   AIC:                             317.3\n",
      "Df Residuals:                      42   BIC:                             322.7\n",
      "Df Model:                           2                                         \n",
      "Covariance Type:            nonrobust                                         \n",
      "==============================================================================================================\n",
      "                                                 coef    std err          t      P>|t|      [0.025      0.975]\n",
      "--------------------------------------------------------------------------------------------------------------\n",
      "Intercept                                     22.5000      2.055     10.948      0.000      18.353      26.647\n",
      "C(Exo, Treatment(reference='noEx'))[T.Ex1]     9.7267      2.906      3.347      0.002       3.861      15.592\n",
      "C(Exo, Treatment(reference='noEx'))[T.Ex2]    18.7333      2.906      6.446      0.000      12.868      24.599\n",
      "==============================================================================\n",
      "Omnibus:                        0.804   Durbin-Watson:                   2.015\n",
      "Prob(Omnibus):                  0.669   Jarque-Bera (JB):                0.874\n",
      "Skew:                          -0.207   Prob(JB):                        0.646\n",
      "Kurtosis:                       2.458   Cond. No.                         3.73\n",
      "==============================================================================\n",
      "\n",
      "Notes:\n",
      "[1] Standard Errors assume that the covariance matrix of the errors is correctly specified.\n"
     ]
    },
    {
     "name": "stderr",
     "output_type": "stream",
     "text": [
      "<ipython-input-21-489932ace740>:12: FutureWarning: The frame.append method is deprecated and will be removed from pandas in a future version. Use pandas.concat instead.\n",
      "  results_table = results_table.append({\n"
     ]
    }
   ],
   "source": [
    "#Step 10.1: Linear Regression Models\n",
    "\n",
    "# Initialize an empty DataFrame to save results\n",
    "results_table = pd.DataFrame(columns=[\"Model\", \"R2\", \"R2 Adjusted\", \"Log-Likelihood\", \"AIC\", \"BIC\"])\n",
    "\n",
    "# model1: one factor. \n",
    "lm = smf.ols((\"Improvement ~ C(Exo, Treatment(reference='noEx'))\"), df_rehab).fit()  # model1: one factor. \n",
    "print(lm.summary())\n",
    "\n",
    "# Save in a table for later comparison between models\n",
    "results_table = results_table.append({\n",
    "    \"Model\": 'One Factor',\n",
    "    \"R2\": lm.rsquared,\n",
    "    \"R2 Adjusted\": lm.rsquared_adj,\n",
    "    \"Log-Likelihood\": lm.llf,\n",
    "    \"AIC\": lm.aic,\n",
    "    \"BIC\": lm.bic\n",
    "}, ignore_index=True)"
   ]
  },
  {
   "cell_type": "code",
   "execution_count": 23,
   "metadata": {},
   "outputs": [
    {
     "name": "stdout",
     "output_type": "stream",
     "text": [
      "                            OLS Regression Results                            \n",
      "==============================================================================\n",
      "Dep. Variable:            Improvement   R-squared:                       0.710\n",
      "Model:                            OLS   Adj. R-squared:                  0.688\n",
      "Method:                 Least Squares   F-statistic:                     33.40\n",
      "Date:                Mon, 02 Dec 2024   Prob (F-statistic):           4.33e-11\n",
      "Time:                        20:26:11   Log-Likelihood:                -143.30\n",
      "No. Observations:                  45   AIC:                             294.6\n",
      "Df Residuals:                      41   BIC:                             301.8\n",
      "Df Model:                           3                                         \n",
      "Covariance Type:            nonrobust                                         \n",
      "==============================================================================================================\n",
      "                                                 coef    std err          t      P>|t|      [0.025      0.975]\n",
      "--------------------------------------------------------------------------------------------------------------\n",
      "Intercept                                      3.5618      3.804      0.936      0.355      -4.120      11.244\n",
      "C(Exo, Treatment(reference='noEx'))[T.Ex1]    -1.5770      3.044     -0.518      0.607      -7.724       4.570\n",
      "C(Exo, Treatment(reference='noEx'))[T.Ex2]    10.3105      2.714      3.799      0.000       4.829      15.792\n",
      "TotalRehabHrs                                  0.1682      0.031      5.474      0.000       0.106       0.230\n",
      "==============================================================================\n",
      "Omnibus:                        3.696   Durbin-Watson:                   2.322\n",
      "Prob(Omnibus):                  0.158   Jarque-Bera (JB):                1.761\n",
      "Skew:                           0.113   Prob(JB):                        0.415\n",
      "Kurtosis:                       2.058   Cond. No.                         764.\n",
      "==============================================================================\n",
      "\n",
      "Notes:\n",
      "[1] Standard Errors assume that the covariance matrix of the errors is correctly specified.\n"
     ]
    },
    {
     "name": "stderr",
     "output_type": "stream",
     "text": [
      "<ipython-input-23-fb36147e8c8e>:7: FutureWarning: The frame.append method is deprecated and will be removed from pandas in a future version. Use pandas.concat instead.\n",
      "  results_table = results_table.append({\n"
     ]
    }
   ],
   "source": [
    "#Step 10.2: Linear Regression Models\n",
    "#model2: two factors!\n",
    "# C(Exo, Treatment(reference='noEx')) >> this is used to ensure the noEx group is compared to the other two methods\n",
    "lm2 = smf.ols(\"Improvement ~ C(Exo, Treatment(reference='noEx')) + TotalRehabHrs\", df_rehab).fit()  \n",
    "print(lm2.summary())\n",
    "\n",
    "# Save in a table for later comparison between models\n",
    "results_table = results_table.append({\n",
    "    \"Model\": 'Two Factor',\n",
    "    \"R2\": lm2.rsquared,\n",
    "    \"R2 Adjusted\": lm2.rsquared_adj,\n",
    "    \"Log-Likelihood\": lm2.llf,\n",
    "    \"AIC\": lm2.aic,\n",
    "    \"BIC\": lm2.bic\n",
    "}, ignore_index=True)"
   ]
  },
  {
   "cell_type": "code",
   "execution_count": 24,
   "metadata": {},
   "outputs": [
    {
     "name": "stdout",
     "output_type": "stream",
     "text": [
      "                            OLS Regression Results                            \n",
      "==============================================================================\n",
      "Dep. Variable:            Improvement   R-squared:                       0.723\n",
      "Model:                            OLS   Adj. R-squared:                  0.688\n",
      "Method:                 Least Squares   F-statistic:                     20.38\n",
      "Date:                Mon, 02 Dec 2024   Prob (F-statistic):           5.94e-10\n",
      "Time:                        20:26:41   Log-Likelihood:                -142.22\n",
      "No. Observations:                  45   AIC:                             296.4\n",
      "Df Residuals:                      39   BIC:                             307.3\n",
      "Df Model:                           5                                         \n",
      "Covariance Type:            nonrobust                                         \n",
      "============================================================================================================================\n",
      "                                                               coef    std err          t      P>|t|      [0.025      0.975]\n",
      "----------------------------------------------------------------------------------------------------------------------------\n",
      "Intercept                                                   10.1662      6.103      1.666      0.104      -2.179      22.511\n",
      "C(Exo, Treatment(reference='noEx'))[T.Ex1]                 -13.7290     12.302     -1.116      0.271     -38.613      11.155\n",
      "C(Exo, Treatment(reference='noEx'))[T.Ex2]                  -1.3312     10.272     -0.130      0.898     -22.108      19.445\n",
      "TotalRehabHrs                                                0.1095      0.052      2.092      0.043       0.004       0.215\n",
      "C(Exo, Treatment(reference='noEx'))[T.Ex1]:TotalRehabHrs     0.0895      0.079      1.137      0.262      -0.070       0.249\n",
      "C(Exo, Treatment(reference='noEx'))[T.Ex2]:TotalRehabHrs     0.0896      0.072      1.240      0.222      -0.057       0.236\n",
      "==============================================================================\n",
      "Omnibus:                        8.186   Durbin-Watson:                   2.326\n",
      "Prob(Omnibus):                  0.017   Jarque-Bera (JB):                2.472\n",
      "Skew:                          -0.012   Prob(JB):                        0.290\n",
      "Kurtosis:                       1.852   Cond. No.                     2.76e+03\n",
      "==============================================================================\n",
      "\n",
      "Notes:\n",
      "[1] Standard Errors assume that the covariance matrix of the errors is correctly specified.\n",
      "[2] The condition number is large, 2.76e+03. This might indicate that there are\n",
      "strong multicollinearity or other numerical problems.\n"
     ]
    },
    {
     "name": "stderr",
     "output_type": "stream",
     "text": [
      "<ipython-input-24-143e02683c33>:7: FutureWarning: The frame.append method is deprecated and will be removed from pandas in a future version. Use pandas.concat instead.\n",
      "  results_table = results_table.append({\n"
     ]
    }
   ],
   "source": [
    "#Step 10.3: Linear Regression Models\n",
    "#model3: interaction \n",
    "lmI = smf.ols(\"Improvement ~ C(Exo, Treatment(reference='noEx'))+ TotalRehabHrs + C(Exo, Treatment(reference='noEx')):TotalRehabHrs\", df_rehab).fit()  # two factors!\n",
    "print(lmI.summary())\n",
    "\n",
    "# Save in a table for later comparison between models\n",
    "results_table = results_table.append({\n",
    "    \"Model\": 'Interacting',\n",
    "    \"R2\": lmI.rsquared,\n",
    "    \"R2 Adjusted\": lmI.rsquared_adj,\n",
    "    \"Log-Likelihood\":lmI.llf,\n",
    "    \"AIC\": lmI.aic,\n",
    "    \"BIC\": lmI.bic\n",
    "}, ignore_index=True)"
   ]
  },
  {
   "cell_type": "markdown",
   "metadata": {},
   "source": [
    "#### Interpretation and Conclusion"
   ]
  },
  {
   "cell_type": "code",
   "execution_count": 25,
   "metadata": {},
   "outputs": [
    {
     "data": {
      "text/html": [
       "<div>\n",
       "<style scoped>\n",
       "    .dataframe tbody tr th:only-of-type {\n",
       "        vertical-align: middle;\n",
       "    }\n",
       "\n",
       "    .dataframe tbody tr th {\n",
       "        vertical-align: top;\n",
       "    }\n",
       "\n",
       "    .dataframe thead th {\n",
       "        text-align: right;\n",
       "    }\n",
       "</style>\n",
       "<table border=\"1\" class=\"dataframe\">\n",
       "  <thead>\n",
       "    <tr style=\"text-align: right;\">\n",
       "      <th></th>\n",
       "      <th>Model</th>\n",
       "      <th>R2</th>\n",
       "      <th>R2 Adjusted</th>\n",
       "      <th>Log-Likelihood</th>\n",
       "      <th>AIC</th>\n",
       "      <th>BIC</th>\n",
       "    </tr>\n",
       "  </thead>\n",
       "  <tbody>\n",
       "    <tr>\n",
       "      <th>0</th>\n",
       "      <td>onefactor</td>\n",
       "      <td>0.497415</td>\n",
       "      <td>0.473482</td>\n",
       "      <td>-155.645102</td>\n",
       "      <td>317.290205</td>\n",
       "      <td>322.710192</td>\n",
       "    </tr>\n",
       "    <tr>\n",
       "      <th>1</th>\n",
       "      <td>Two Factor</td>\n",
       "      <td>0.709628</td>\n",
       "      <td>0.688381</td>\n",
       "      <td>-143.301557</td>\n",
       "      <td>294.603114</td>\n",
       "      <td>301.829764</td>\n",
       "    </tr>\n",
       "    <tr>\n",
       "      <th>2</th>\n",
       "      <td>Interacting</td>\n",
       "      <td>0.723232</td>\n",
       "      <td>0.687749</td>\n",
       "      <td>-142.221907</td>\n",
       "      <td>296.443813</td>\n",
       "      <td>307.283788</td>\n",
       "    </tr>\n",
       "  </tbody>\n",
       "</table>\n",
       "</div>"
      ],
      "text/plain": [
       "         Model        R2  R2 Adjusted  Log-Likelihood         AIC         BIC\n",
       "0    onefactor  0.497415     0.473482     -155.645102  317.290205  322.710192\n",
       "1   Two Factor  0.709628     0.688381     -143.301557  294.603114  301.829764\n",
       "2  Interacting  0.723232     0.687749     -142.221907  296.443813  307.283788"
      ]
     },
     "execution_count": 25,
     "metadata": {},
     "output_type": "execute_result"
    }
   ],
   "source": [
    "#Step 11: Comparing different Models\n",
    "results_table"
   ]
  },
  {
   "cell_type": "markdown",
   "metadata": {},
   "source": [
    "#### Comparing Key metrics:\n",
    "\n",
    "<span style='color:Blue'> 1. R² (explained variance) is higher in the Two Factor and Interacting models than in the One Factor model. This indicates that the Two Factor and Interacting models explain more of the variation in the dependent variable (Improvement).\n",
    "    \n",
    "<span style='color:Blue'> 2. R² Adjusted shows a similar trend. The Two Factor and Interacting models still perform better than the One Factor model. However, the Interacting model has a slightly lower adjusted R², maybe suggesting potential overfitting due to the inclusion of interaction terms.\n",
    "    \n",
    "<span style='color:Blue'> 3. Higher log-likelihood values indicate a better fit. The Interacting model has the highest log-likelihood. This suggests the Interacting model fits the data slightly better.\n",
    "    \n",
    "<span style='color:Blue'> 4. AIC and BIC, both penalizes for model complexity, show that Two Factor model has the lowest value in these section. It suggests this model balances model fit and complexity better. "
   ]
  },
  {
   "cell_type": "code",
   "execution_count": 158,
   "metadata": {},
   "outputs": [
    {
     "data": {
      "text/html": [
       "<div>\n",
       "<style scoped>\n",
       "    .dataframe tbody tr th:only-of-type {\n",
       "        vertical-align: middle;\n",
       "    }\n",
       "\n",
       "    .dataframe tbody tr th {\n",
       "        vertical-align: top;\n",
       "    }\n",
       "\n",
       "    .dataframe thead th {\n",
       "        text-align: right;\n",
       "    }\n",
       "</style>\n",
       "<table border=\"1\" class=\"dataframe\">\n",
       "  <thead>\n",
       "    <tr style=\"text-align: right;\">\n",
       "      <th></th>\n",
       "      <th>df_resid</th>\n",
       "      <th>ssr</th>\n",
       "      <th>df_diff</th>\n",
       "      <th>ss_diff</th>\n",
       "      <th>F</th>\n",
       "      <th>Pr(&gt;F)</th>\n",
       "    </tr>\n",
       "  </thead>\n",
       "  <tbody>\n",
       "    <tr>\n",
       "      <th>0</th>\n",
       "      <td>42.0</td>\n",
       "      <td>2660.702667</td>\n",
       "      <td>0.0</td>\n",
       "      <td>NaN</td>\n",
       "      <td>NaN</td>\n",
       "      <td>NaN</td>\n",
       "    </tr>\n",
       "    <tr>\n",
       "      <th>1</th>\n",
       "      <td>41.0</td>\n",
       "      <td>1537.239428</td>\n",
       "      <td>1.0</td>\n",
       "      <td>1123.463239</td>\n",
       "      <td>29.964098</td>\n",
       "      <td>0.000002</td>\n",
       "    </tr>\n",
       "  </tbody>\n",
       "</table>\n",
       "</div>"
      ],
      "text/plain": [
       "   df_resid          ssr  df_diff      ss_diff          F    Pr(>F)\n",
       "0      42.0  2660.702667      0.0          NaN        NaN       NaN\n",
       "1      41.0  1537.239428      1.0  1123.463239  29.964098  0.000002"
      ]
     },
     "execution_count": 158,
     "metadata": {},
     "output_type": "execute_result"
    }
   ],
   "source": [
    "from statsmodels.stats.anova import anova_lm\n",
    "anovaResults = anova_lm(lm, lm2)\n",
    "anovaResults"
   ]
  },
  {
   "cell_type": "markdown",
   "metadata": {},
   "source": [
    "<span style='color:Blue'> The Two Factor model provides a significantly better fit to the data than the One Factor model. Including the second factor adds meaningful explanatory power to the model."
   ]
  },
  {
   "cell_type": "code",
   "execution_count": 157,
   "metadata": {},
   "outputs": [
    {
     "data": {
      "text/html": [
       "<div>\n",
       "<style scoped>\n",
       "    .dataframe tbody tr th:only-of-type {\n",
       "        vertical-align: middle;\n",
       "    }\n",
       "\n",
       "    .dataframe tbody tr th {\n",
       "        vertical-align: top;\n",
       "    }\n",
       "\n",
       "    .dataframe thead th {\n",
       "        text-align: right;\n",
       "    }\n",
       "</style>\n",
       "<table border=\"1\" class=\"dataframe\">\n",
       "  <thead>\n",
       "    <tr style=\"text-align: right;\">\n",
       "      <th></th>\n",
       "      <th>df_resid</th>\n",
       "      <th>ssr</th>\n",
       "      <th>df_diff</th>\n",
       "      <th>ss_diff</th>\n",
       "      <th>F</th>\n",
       "      <th>Pr(&gt;F)</th>\n",
       "    </tr>\n",
       "  </thead>\n",
       "  <tbody>\n",
       "    <tr>\n",
       "      <th>0</th>\n",
       "      <td>41.0</td>\n",
       "      <td>1537.239428</td>\n",
       "      <td>0.0</td>\n",
       "      <td>NaN</td>\n",
       "      <td>NaN</td>\n",
       "      <td>NaN</td>\n",
       "    </tr>\n",
       "    <tr>\n",
       "      <th>1</th>\n",
       "      <td>39.0</td>\n",
       "      <td>1465.217619</td>\n",
       "      <td>2.0</td>\n",
       "      <td>72.021809</td>\n",
       "      <td>0.95851</td>\n",
       "      <td>0.392312</td>\n",
       "    </tr>\n",
       "  </tbody>\n",
       "</table>\n",
       "</div>"
      ],
      "text/plain": [
       "   df_resid          ssr  df_diff    ss_diff        F    Pr(>F)\n",
       "0      41.0  1537.239428      0.0        NaN      NaN       NaN\n",
       "1      39.0  1465.217619      2.0  72.021809  0.95851  0.392312"
      ]
     },
     "execution_count": 157,
     "metadata": {},
     "output_type": "execute_result"
    }
   ],
   "source": [
    "from statsmodels.stats.anova import anova_lm\n",
    "anovaResults = anova_lm(lm2, lmI)\n",
    "anovaResults"
   ]
  },
  {
   "cell_type": "markdown",
   "metadata": {},
   "source": [
    "<span style='color:Blue'> The Interacting model does not significantly improve the fit compared to the Two Factor model. Therefore, adding interaction terms is not justified in this case, suggesting that the more complex model does not add much value over the simpler one."
   ]
  },
  {
   "cell_type": "markdown",
   "metadata": {},
   "source": [
    "#### Take home massage:\n",
    "\n",
    "<span style='color:Blue'> In short, the results from both the regression analysis and post-hoc ANOVA indicate that exoskeleton treatments (Ex1 and Ex2) lead to a significant improvement in the clinical assessment score when compared to no treatment (noEx). Moreover, the results show higher hours of rehabilitation lead to more improvement, but the effects of rehabilitation hours are consistent across all treatments, without any significant interaction effect.\n",
    "    In other words, The Two Factor model  (with considering information of rehabilitation Exo method and hours spent) appears to be the most parsimonious and effective model for predicting improvement, based on its strong fit (higher R², lower AIC/BIC) and simplicity."
   ]
  },
  {
   "cell_type": "markdown",
   "metadata": {},
   "source": [
    "#### Post-analysis Exploration\n",
    "<span style='color:Blue'> If we had conducted the analysis differently, for example by using a mixed-effects model to account for individual differences or performing the analysis using a different metric of improvement (such as percent change rather than raw difference), the conclusions might have changed. However, given the strong results from both the ANOVA and regression analysis, we are confident that the exoskeleton treatments (Ex1 and Ex2) lead to a significant improvement in walking performance compared to noEx."
   ]
  },
  {
   "cell_type": "markdown",
   "metadata": {},
   "source": [
    "#### Bias and Blinding\n",
    "<span style='color:Blue'> Although the study try to be fully unbiased, I can think of some sources of potential bias:\n",
    "\n",
    "<span style='color:Blue'>  **Participant bias:** Patients may alter their behavior or performance due to expectations about the effectiveness of the treatment, especially since they can understan which group they are in by using the equipments.\n",
    "\n",
    "<span style='color:Blue'>  **Treatment bias:** The researchers might have expectations about the effectiveness of the treatments (Ex1, Ex2, noEx)\n",
    "\n",
    "<span style='color:Blue'>  **No randomization:** The patients were not randomly assigned to the treatment groups, which introduces the potential for confounding variables. For example, patients in the Ex2 group may have had different baseline characteristics or rehabilitation conditions than those in the noEx or Ex1 groups."
   ]
  },
  {
   "cell_type": "markdown",
   "metadata": {},
   "source": [
    "### Q3: Stroke Recovery Time\n",
    "\n",
    "In the file StrokeRecoveryTime.xlsx you will find data from 120 Stroke patients. The goal of the study was to determine what are the factors that influence stroke recovery time, recorded in weeks. Your task is to determine the statistical model that best predicts recovery time in a way that is parsimonious and likely to generalise to other data recorded in the same way. The factors that were recorded are the number of hours per week spent on Speech Therapy, the number of hours per week spent on a new therapy involving EEG feedback training ('FBTraining'), and whether the side of the stroke was on the Left (coded as 0) or the Right (1) hemisphere of the brain.\n",
    "\n",
    "Make a plan to compare several models and provide a basis upon which to select the 'best' one with the above goals in mind. Clearly conclude which combinations of factors influence Stroke Recovery Time and precisely in what way.\n",
    "\n",
    "#### Variables, analysis plan and motivation"
   ]
  },
  {
   "cell_type": "markdown",
   "metadata": {},
   "source": [
    "### Variables, Analysis Plan, and Motivation\n",
    "\n",
    "---\n",
    "\n",
    "<span style='color:Blue'> **Set Up the Hypotheses:**\n",
    "\n",
    "1. **General Hypothesis:**\n",
    "   - **Null Hypothesis (H₀):** The combination of Speech Therapy hours, FBTraining hours, and Stroke Side (Left or Right) does not influence stroke recovery time.\n",
    "   - **Alternative Hypothesis (H₁):** The combination of Speech Therapy hours, FBTraining hours, and Stroke Side (Left or Right) significantly influences stroke recovery time.\n",
    "\n",
    "---\n",
    "\n",
    "<span style='color:Blue'> **Variables:**\n",
    "\n",
    "- **Dependent Variable:** Stroke Recovery Time (in weeks)\n",
    "- **Independent Variables:** \n",
    "  - Speech Therapy Hours per Week, continuous.\n",
    "  - FB Training Hours per Week, continuous.\n",
    "  - Stroke Side, categorical.\n",
    "\n",
    "---\n",
    "\n",
    "<span style='color:Blue'> **Plan:**\n",
    " \n",
    "Conducting **linear** and **multiple linear regression**.\n",
    " \n",
    "---\n",
    "\n",
    "<span style='color:Blue'> **Reason for Choosing These Tests:**\n",
    "\n",
    "1. **Multiple Linear Regression** is appropriate for predicting stroke recovery time (a continuous outcome) based on continuous and categorical predictors.\n",
    "2. **Model Comparison using AIC/BIC and Cross-validation** will help identify the most parsimonious model while avoiding overfitting.\n",
    "3. **Stepwise Selection** ensures that only the most important predictors remain, increasing generalizability to new data.\n",
    "4. **Residual Diagnostics** help validate the assumptions of linear regression and improve the robustness of the model.\n",
    "\n",
    "---\n",
    "\n",
    "<span style='color:Blue'> **Preliminary Analyses:**\n",
    "\n",
    "1. **Descriptive Statistics**\n",
    "   \n",
    "2. **Outlier Detection:** Use the IQR method to detect and remove outliers, usign \"outlier_removal\" function\n",
    "\n",
    "3. **Data Visualization:** Visualize relationships between each predictor (SpeechTherapyHrs, FBTrainingHrs, StrokeSide) and recovery time using boxplots.\n",
    "\n",
    "4. **correlation:** checking for the correlation between I.V.s and their corelation with D.V.\n",
    "\n",
    "---\n",
    "\n",
    "<span style='color:Blue'> **Post-hoc and Interpretation:**\n",
    "\n",
    "1. If multiple linear regression models are significant, compare the coefficients and p-values to assess which predictors (or combinations of predictors) significantly influence stroke recovery time.\n",
    "2. Interaction Effects: Check if there is any interaction between predictores.\n"
   ]
  },
  {
   "cell_type": "code",
   "execution_count": 36,
   "metadata": {},
   "outputs": [
    {
     "data": {
      "text/html": [
       "<div>\n",
       "<style scoped>\n",
       "    .dataframe tbody tr th:only-of-type {\n",
       "        vertical-align: middle;\n",
       "    }\n",
       "\n",
       "    .dataframe tbody tr th {\n",
       "        vertical-align: top;\n",
       "    }\n",
       "\n",
       "    .dataframe thead th {\n",
       "        text-align: right;\n",
       "    }\n",
       "</style>\n",
       "<table border=\"1\" class=\"dataframe\">\n",
       "  <thead>\n",
       "    <tr style=\"text-align: right;\">\n",
       "      <th></th>\n",
       "      <th>Unnamed: 0</th>\n",
       "      <th>RecoveryTime</th>\n",
       "      <th>SpeechTherapy</th>\n",
       "      <th>FBTraining</th>\n",
       "      <th>StrokeSide</th>\n",
       "    </tr>\n",
       "  </thead>\n",
       "  <tbody>\n",
       "    <tr>\n",
       "      <th>0</th>\n",
       "      <td>0</td>\n",
       "      <td>83.842626</td>\n",
       "      <td>4</td>\n",
       "      <td>0</td>\n",
       "      <td>0</td>\n",
       "    </tr>\n",
       "    <tr>\n",
       "      <th>1</th>\n",
       "      <td>1</td>\n",
       "      <td>109.821206</td>\n",
       "      <td>3</td>\n",
       "      <td>1</td>\n",
       "      <td>0</td>\n",
       "    </tr>\n",
       "    <tr>\n",
       "      <th>2</th>\n",
       "      <td>2</td>\n",
       "      <td>103.257826</td>\n",
       "      <td>5</td>\n",
       "      <td>6</td>\n",
       "      <td>1</td>\n",
       "    </tr>\n",
       "    <tr>\n",
       "      <th>3</th>\n",
       "      <td>3</td>\n",
       "      <td>93.742367</td>\n",
       "      <td>5</td>\n",
       "      <td>3</td>\n",
       "      <td>1</td>\n",
       "    </tr>\n",
       "    <tr>\n",
       "      <th>4</th>\n",
       "      <td>4</td>\n",
       "      <td>7.295989</td>\n",
       "      <td>4</td>\n",
       "      <td>7</td>\n",
       "      <td>0</td>\n",
       "    </tr>\n",
       "  </tbody>\n",
       "</table>\n",
       "</div>"
      ],
      "text/plain": [
       "   Unnamed: 0  RecoveryTime  SpeechTherapy  FBTraining  StrokeSide\n",
       "0           0     83.842626              4           0           0\n",
       "1           1    109.821206              3           1           0\n",
       "2           2    103.257826              5           6           1\n",
       "3           3     93.742367              5           3           1\n",
       "4           4      7.295989              4           7           0"
      ]
     },
     "execution_count": 36,
     "metadata": {},
     "output_type": "execute_result"
    }
   ],
   "source": [
    "#Step1: Load the data\n",
    "df_stroke = pd.read_excel(\"StrokeRecoveryTime.xlsx\")\n",
    "\n",
    "df_stroke.head()"
   ]
  },
  {
   "cell_type": "markdown",
   "metadata": {},
   "source": [
    "#### Summary Statistics and Graphs"
   ]
  },
  {
   "cell_type": "code",
   "execution_count": 37,
   "metadata": {},
   "outputs": [
    {
     "name": "stdout",
     "output_type": "stream",
     "text": [
      "checking for missing values:\n",
      "\n",
      "Unnamed: 0       0\n",
      "RecoveryTime     0\n",
      "SpeechTherapy    0\n",
      "FBTraining       0\n",
      "StrokeSide       0\n",
      "dtype: int64\n"
     ]
    },
    {
     "data": {
      "text/html": [
       "<div>\n",
       "<style scoped>\n",
       "    .dataframe tbody tr th:only-of-type {\n",
       "        vertical-align: middle;\n",
       "    }\n",
       "\n",
       "    .dataframe tbody tr th {\n",
       "        vertical-align: top;\n",
       "    }\n",
       "\n",
       "    .dataframe thead th {\n",
       "        text-align: right;\n",
       "    }\n",
       "</style>\n",
       "<table border=\"1\" class=\"dataframe\">\n",
       "  <thead>\n",
       "    <tr style=\"text-align: right;\">\n",
       "      <th></th>\n",
       "      <th>Unnamed: 0</th>\n",
       "      <th>RecoveryTime</th>\n",
       "      <th>SpeechTherapy</th>\n",
       "      <th>FBTraining</th>\n",
       "      <th>StrokeSide</th>\n",
       "    </tr>\n",
       "  </thead>\n",
       "  <tbody>\n",
       "    <tr>\n",
       "      <th>count</th>\n",
       "      <td>120.000000</td>\n",
       "      <td>120.000000</td>\n",
       "      <td>120.000000</td>\n",
       "      <td>120.000000</td>\n",
       "      <td>120.000000</td>\n",
       "    </tr>\n",
       "    <tr>\n",
       "      <th>mean</th>\n",
       "      <td>59.500000</td>\n",
       "      <td>95.859823</td>\n",
       "      <td>5.616667</td>\n",
       "      <td>5.200000</td>\n",
       "      <td>0.525000</td>\n",
       "    </tr>\n",
       "    <tr>\n",
       "      <th>std</th>\n",
       "      <td>34.785054</td>\n",
       "      <td>14.417722</td>\n",
       "      <td>3.452397</td>\n",
       "      <td>3.727256</td>\n",
       "      <td>0.501468</td>\n",
       "    </tr>\n",
       "    <tr>\n",
       "      <th>min</th>\n",
       "      <td>0.000000</td>\n",
       "      <td>7.295989</td>\n",
       "      <td>0.000000</td>\n",
       "      <td>0.000000</td>\n",
       "      <td>0.000000</td>\n",
       "    </tr>\n",
       "    <tr>\n",
       "      <th>25%</th>\n",
       "      <td>29.750000</td>\n",
       "      <td>90.024373</td>\n",
       "      <td>3.000000</td>\n",
       "      <td>2.000000</td>\n",
       "      <td>0.000000</td>\n",
       "    </tr>\n",
       "    <tr>\n",
       "      <th>50%</th>\n",
       "      <td>59.500000</td>\n",
       "      <td>98.138758</td>\n",
       "      <td>5.000000</td>\n",
       "      <td>5.000000</td>\n",
       "      <td>1.000000</td>\n",
       "    </tr>\n",
       "    <tr>\n",
       "      <th>75%</th>\n",
       "      <td>89.250000</td>\n",
       "      <td>103.968976</td>\n",
       "      <td>9.000000</td>\n",
       "      <td>8.250000</td>\n",
       "      <td>1.000000</td>\n",
       "    </tr>\n",
       "    <tr>\n",
       "      <th>max</th>\n",
       "      <td>119.000000</td>\n",
       "      <td>123.394569</td>\n",
       "      <td>11.000000</td>\n",
       "      <td>11.000000</td>\n",
       "      <td>1.000000</td>\n",
       "    </tr>\n",
       "  </tbody>\n",
       "</table>\n",
       "</div>"
      ],
      "text/plain": [
       "       Unnamed: 0  RecoveryTime  SpeechTherapy  FBTraining  StrokeSide\n",
       "count  120.000000    120.000000     120.000000  120.000000  120.000000\n",
       "mean    59.500000     95.859823       5.616667    5.200000    0.525000\n",
       "std     34.785054     14.417722       3.452397    3.727256    0.501468\n",
       "min      0.000000      7.295989       0.000000    0.000000    0.000000\n",
       "25%     29.750000     90.024373       3.000000    2.000000    0.000000\n",
       "50%     59.500000     98.138758       5.000000    5.000000    1.000000\n",
       "75%     89.250000    103.968976       9.000000    8.250000    1.000000\n",
       "max    119.000000    123.394569      11.000000   11.000000    1.000000"
      ]
     },
     "execution_count": 37,
     "metadata": {},
     "output_type": "execute_result"
    }
   ],
   "source": [
    "#Step 2: Overview of the dataset\n",
    "\n",
    "#Check for missing values\n",
    "print('checking for missing values:\\n')\n",
    "print(df_stroke.isnull().sum())\n",
    "\n",
    "# describtive statistics\n",
    "df_stroke.describe()"
   ]
  },
  {
   "cell_type": "code",
   "execution_count": 38,
   "metadata": {},
   "outputs": [
    {
     "data": {
      "image/png": "[encoded data removed]",
      "text/plain": [
       "<Figure size 1080x360 with 3 Axes>"
      ]
     },
     "metadata": {
      "needs_background": "light"
     },
     "output_type": "display_data"
    }
   ],
   "source": [
    "#Step 3: Visualization\n",
    "\n",
    "# Plot recovery time against each continuous predictor\n",
    "plt.figure(figsize=(15, 5))\n",
    "plt.subplot(1,3,1)\n",
    "sns.boxplot(x=\"SpeechTherapy\", y=\"RecoveryTime\", data=df_stroke)\n",
    "plt.title(\"Recovery Time vs Hemisphere\")\n",
    "\n",
    "plt.subplot(1,3,2)\n",
    "sns.boxplot(x=\"FBTraining\", y=\"RecoveryTime\", data=df_stroke)\n",
    "plt.title(\"Recovery Time vs Hemisphere\")\n",
    "\n",
    "plt.subplot(1,3,3)\n",
    "sns.boxplot(x=\"StrokeSide\", y=\"RecoveryTime\", data=df_stroke)\n",
    "plt.title(\"Recovery Time vs Hemisphere\")\n",
    "\n",
    "plt.show()\n"
   ]
  },
  {
   "cell_type": "code",
   "execution_count": 39,
   "metadata": {},
   "outputs": [
    {
     "name": "stdout",
     "output_type": "stream",
     "text": [
      "Detected outliers:\n"
     ]
    },
    {
     "data": {
      "text/html": [
       "<div>\n",
       "<style scoped>\n",
       "    .dataframe tbody tr th:only-of-type {\n",
       "        vertical-align: middle;\n",
       "    }\n",
       "\n",
       "    .dataframe tbody tr th {\n",
       "        vertical-align: top;\n",
       "    }\n",
       "\n",
       "    .dataframe thead th {\n",
       "        text-align: right;\n",
       "    }\n",
       "</style>\n",
       "<table border=\"1\" class=\"dataframe\">\n",
       "  <thead>\n",
       "    <tr style=\"text-align: right;\">\n",
       "      <th></th>\n",
       "      <th>Unnamed: 0</th>\n",
       "      <th>RecoveryTime</th>\n",
       "      <th>SpeechTherapy</th>\n",
       "      <th>FBTraining</th>\n",
       "      <th>StrokeSide</th>\n",
       "    </tr>\n",
       "  </thead>\n",
       "  <tbody>\n",
       "    <tr>\n",
       "      <th>4</th>\n",
       "      <td>4</td>\n",
       "      <td>7.295989</td>\n",
       "      <td>4</td>\n",
       "      <td>7</td>\n",
       "      <td>0</td>\n",
       "    </tr>\n",
       "    <tr>\n",
       "      <th>14</th>\n",
       "      <td>14</td>\n",
       "      <td>63.654907</td>\n",
       "      <td>10</td>\n",
       "      <td>3</td>\n",
       "      <td>0</td>\n",
       "    </tr>\n",
       "    <tr>\n",
       "      <th>30</th>\n",
       "      <td>30</td>\n",
       "      <td>64.685423</td>\n",
       "      <td>10</td>\n",
       "      <td>9</td>\n",
       "      <td>0</td>\n",
       "    </tr>\n",
       "    <tr>\n",
       "      <th>41</th>\n",
       "      <td>41</td>\n",
       "      <td>64.445947</td>\n",
       "      <td>11</td>\n",
       "      <td>1</td>\n",
       "      <td>0</td>\n",
       "    </tr>\n",
       "  </tbody>\n",
       "</table>\n",
       "</div>"
      ],
      "text/plain": [
       "    Unnamed: 0  RecoveryTime  SpeechTherapy  FBTraining  StrokeSide\n",
       "4            4      7.295989              4           7           0\n",
       "14          14     63.654907             10           3           0\n",
       "30          30     64.685423             10           9           0\n",
       "41          41     64.445947             11           1           0"
      ]
     },
     "execution_count": 39,
     "metadata": {},
     "output_type": "execute_result"
    }
   ],
   "source": [
    "#Step 4: preparing the dataset\n",
    "\n",
    "# Apply the outlier removal function to erecovery time column, as the other columns did not show any outlier in the box plots\n",
    "outliers = outlier_removal(df_stroke, 'RecoveryTime')\n",
    "#remove the indexes which were diagnosed as outliers\n",
    "df_stroke_no_outliers = df_stroke.drop(outliers.index) \n",
    "print('Detected outliers:')\n",
    "outliers"
   ]
  },
  {
   "cell_type": "code",
   "execution_count": 40,
   "metadata": {},
   "outputs": [
    {
     "data": {
      "text/html": [
       "<div>\n",
       "<style scoped>\n",
       "    .dataframe tbody tr th:only-of-type {\n",
       "        vertical-align: middle;\n",
       "    }\n",
       "\n",
       "    .dataframe tbody tr th {\n",
       "        vertical-align: top;\n",
       "    }\n",
       "\n",
       "    .dataframe thead th {\n",
       "        text-align: right;\n",
       "    }\n",
       "</style>\n",
       "<table border=\"1\" class=\"dataframe\">\n",
       "  <thead>\n",
       "    <tr style=\"text-align: right;\">\n",
       "      <th></th>\n",
       "      <th>Unnamed: 0</th>\n",
       "      <th>RecoveryTime</th>\n",
       "      <th>SpeechTherapy</th>\n",
       "      <th>FBTraining</th>\n",
       "      <th>StrokeSide</th>\n",
       "    </tr>\n",
       "  </thead>\n",
       "  <tbody>\n",
       "    <tr>\n",
       "      <th>Unnamed: 0</th>\n",
       "      <td>1.000000</td>\n",
       "      <td>-0.058878</td>\n",
       "      <td>0.008358</td>\n",
       "      <td>0.154889</td>\n",
       "      <td>0.075706</td>\n",
       "    </tr>\n",
       "    <tr>\n",
       "      <th>RecoveryTime</th>\n",
       "      <td>-0.058878</td>\n",
       "      <td>1.000000</td>\n",
       "      <td>-0.214878</td>\n",
       "      <td>0.006181</td>\n",
       "      <td>0.202935</td>\n",
       "    </tr>\n",
       "    <tr>\n",
       "      <th>SpeechTherapy</th>\n",
       "      <td>0.008358</td>\n",
       "      <td>-0.214878</td>\n",
       "      <td>1.000000</td>\n",
       "      <td>-0.017101</td>\n",
       "      <td>0.248629</td>\n",
       "    </tr>\n",
       "    <tr>\n",
       "      <th>FBTraining</th>\n",
       "      <td>0.154889</td>\n",
       "      <td>0.006181</td>\n",
       "      <td>-0.017101</td>\n",
       "      <td>1.000000</td>\n",
       "      <td>0.018403</td>\n",
       "    </tr>\n",
       "    <tr>\n",
       "      <th>StrokeSide</th>\n",
       "      <td>0.075706</td>\n",
       "      <td>0.202935</td>\n",
       "      <td>0.248629</td>\n",
       "      <td>0.018403</td>\n",
       "      <td>1.000000</td>\n",
       "    </tr>\n",
       "  </tbody>\n",
       "</table>\n",
       "</div>"
      ],
      "text/plain": [
       "               Unnamed: 0  RecoveryTime  SpeechTherapy  FBTraining  StrokeSide\n",
       "Unnamed: 0       1.000000     -0.058878       0.008358    0.154889    0.075706\n",
       "RecoveryTime    -0.058878      1.000000      -0.214878    0.006181    0.202935\n",
       "SpeechTherapy    0.008358     -0.214878       1.000000   -0.017101    0.248629\n",
       "FBTraining       0.154889      0.006181      -0.017101    1.000000    0.018403\n",
       "StrokeSide       0.075706      0.202935       0.248629    0.018403    1.000000"
      ]
     },
     "execution_count": 40,
     "metadata": {},
     "output_type": "execute_result"
    }
   ],
   "source": [
    "#Step 5: check the correlation between I.V.s\n",
    "df_stroke_no_outliers.corr()"
   ]
  },
  {
   "cell_type": "markdown",
   "metadata": {},
   "source": [
    "<span style='color:Blue'> as we can see, there is a small correlation between SpeechTherapy and StrokeSide. Moreover, they both have similar correlation with RecoveryTime (in a negative and posetive direction, respectively)."
   ]
  },
  {
   "cell_type": "markdown",
   "metadata": {},
   "source": [
    "#### Analyses"
   ]
  },
  {
   "cell_type": "code",
   "execution_count": 41,
   "metadata": {},
   "outputs": [],
   "source": [
    "#Step 6: preparing the data for regression analysis\n",
    "X = df_stroke_no_outliers[['SpeechTherapy', 'FBTraining', 'StrokeSide']]\n",
    "y = df_stroke_no_outliers['RecoveryTime']\n",
    "X = sm.add_constant(X)  # Add an intercept\n",
    "\n",
    "# Initialize an empty DataFrame to save results\n",
    "results_table = pd.DataFrame(columns=[\"Model\", \"R2\", \"R2 Adjusted\", \"Log-Likelihood\", \"AIC\", \"BIC\"])"
   ]
  },
  {
   "cell_type": "markdown",
   "metadata": {},
   "source": [
    "<span style='color:Blue'> based on the correlations between parameters, I will check for different types of models:\n",
    "\n",
    "<span style='color:Blue'>    Model 1: with Speech Therapy \n",
    "\n",
    "<span style='color:Blue'>    Model 2: with StrokeSide\n",
    "\n",
    "<span style='color:Blue'>    Model 3: with all predictors\n",
    "    \n",
    "<span style='color:Blue'>    Model 4: with interaction term (between SpeechTherapy and StrokeSide)"
   ]
  },
  {
   "cell_type": "code",
   "execution_count": 42,
   "metadata": {},
   "outputs": [
    {
     "name": "stdout",
     "output_type": "stream",
     "text": [
      "                            OLS Regression Results                            \n",
      "==============================================================================\n",
      "Dep. Variable:           RecoveryTime   R-squared:                       0.044\n",
      "Model:                            OLS   Adj. R-squared:                  0.036\n",
      "Method:                 Least Squares   F-statistic:                     5.440\n",
      "Date:                Mon, 02 Dec 2024   Prob (F-statistic):             0.0214\n",
      "Time:                        21:52:21   Log-Likelihood:                -487.28\n",
      "No. Observations:                 120   AIC:                             978.6\n",
      "Df Residuals:                     118   BIC:                             984.1\n",
      "Df Model:                           1                                         \n",
      "Covariance Type:            nonrobust                                         \n",
      "=================================================================================\n",
      "                    coef    std err          t      P>|t|      [0.025      0.975]\n",
      "---------------------------------------------------------------------------------\n",
      "Intercept       100.7840      2.475     40.716      0.000      95.882     105.686\n",
      "SpeechTherapy    -0.8767      0.376     -2.332      0.021      -1.621      -0.132\n",
      "==============================================================================\n",
      "Omnibus:                       86.292   Durbin-Watson:                   1.919\n",
      "Prob(Omnibus):                  0.000   Jarque-Bera (JB):              849.829\n",
      "Skew:                          -2.264   Prob(JB):                    2.90e-185\n",
      "Kurtosis:                      15.225   Cond. No.                         12.8\n",
      "==============================================================================\n",
      "\n",
      "Notes:\n",
      "[1] Standard Errors assume that the covariance matrix of the errors is correctly specified.\n"
     ]
    },
    {
     "name": "stderr",
     "output_type": "stream",
     "text": [
      "<ipython-input-42-23568f64ea3f>:6: FutureWarning: The frame.append method is deprecated and will be removed from pandas in a future version. Use pandas.concat instead.\n",
      "  results_table = results_table.append({\n"
     ]
    }
   ],
   "source": [
    "#Step 7, Model1: Fit a linear regression model with Speech Therapy\n",
    "lm_speech = ols('RecoveryTime ~ SpeechTherapy', df_stroke).fit()  # patsy language\n",
    "print(lm_speech.summary())\n",
    "\n",
    "# Save in a table for later comparison between models\n",
    "results_table = results_table.append({\n",
    "    \"Model\": 'Model 1: with Speech Therapy',\n",
    "    \"R2\": lm_speech.rsquared,\n",
    "    \"R2 Adjusted\": lm_speech.rsquared_adj,\n",
    "    \"Log-Likelihood\": lm_speech.llf,\n",
    "    \"AIC\": lm_speech.aic,\n",
    "    \"BIC\": lm_speech.bic\n",
    "}, ignore_index=True)"
   ]
  },
  {
   "cell_type": "code",
   "execution_count": 43,
   "metadata": {},
   "outputs": [
    {
     "name": "stdout",
     "output_type": "stream",
     "text": [
      "                            OLS Regression Results                            \n",
      "==============================================================================\n",
      "Dep. Variable:           RecoveryTime   R-squared:                       0.069\n",
      "Model:                            OLS   Adj. R-squared:                  0.061\n",
      "Method:                 Least Squares   F-statistic:                     8.794\n",
      "Date:                Mon, 02 Dec 2024   Prob (F-statistic):            0.00366\n",
      "Time:                        21:52:24   Log-Likelihood:                -485.67\n",
      "No. Observations:                 120   AIC:                             975.3\n",
      "Df Residuals:                     118   BIC:                             980.9\n",
      "Df Model:                           1                                         \n",
      "Covariance Type:            nonrobust                                         \n",
      "==============================================================================\n",
      "                 coef    std err          t      P>|t|      [0.025      0.975]\n",
      "------------------------------------------------------------------------------\n",
      "Intercept     91.8846      1.850     49.666      0.000      88.221      95.548\n",
      "StrokeSide     7.5718      2.553      2.966      0.004       2.516      12.628\n",
      "==============================================================================\n",
      "Omnibus:                       72.367   Durbin-Watson:                   1.942\n",
      "Prob(Omnibus):                  0.000   Jarque-Bera (JB):              582.488\n",
      "Skew:                          -1.851   Prob(JB):                    3.27e-127\n",
      "Kurtosis:                      13.139   Cond. No.                         2.68\n",
      "==============================================================================\n",
      "\n",
      "Notes:\n",
      "[1] Standard Errors assume that the covariance matrix of the errors is correctly specified.\n"
     ]
    },
    {
     "name": "stderr",
     "output_type": "stream",
     "text": [
      "<ipython-input-43-d60758cc2e74>:6: FutureWarning: The frame.append method is deprecated and will be removed from pandas in a future version. Use pandas.concat instead.\n",
      "  results_table = results_table.append({\n"
     ]
    }
   ],
   "source": [
    "#Step 7, Model2: Fit a linear regression model with StrokeSide\n",
    "lm_StrokeSide = ols('RecoveryTime ~ StrokeSide', df_stroke).fit()\n",
    "print(lm_StrokeSide.summary())\n",
    "\n",
    "# Save in a table for later comparison between models\n",
    "results_table = results_table.append({\n",
    "    \"Model\": 'Model 2: with StrokeSide',\n",
    "    \"R2\": lm_StrokeSide.rsquared,\n",
    "    \"R2 Adjusted\": lm_StrokeSide.rsquared_adj,\n",
    "    \"Log-Likelihood\": lm_StrokeSide.llf,\n",
    "    \"AIC\": lm_StrokeSide.aic,\n",
    "    \"BIC\": lm_StrokeSide.bic\n",
    "}, ignore_index=True)"
   ]
  },
  {
   "cell_type": "code",
   "execution_count": 44,
   "metadata": {},
   "outputs": [
    {
     "name": "stdout",
     "output_type": "stream",
     "text": [
      "                            OLS Regression Results                            \n",
      "==============================================================================\n",
      "Dep. Variable:           RecoveryTime   R-squared:                       0.142\n",
      "Model:                            OLS   Adj. R-squared:                  0.120\n",
      "Method:                 Least Squares   F-statistic:                     6.423\n",
      "Date:                Mon, 02 Dec 2024   Prob (F-statistic):           0.000461\n",
      "Time:                        21:52:27   Log-Likelihood:                -480.77\n",
      "No. Observations:                 120   AIC:                             969.5\n",
      "Df Residuals:                     116   BIC:                             980.7\n",
      "Df Model:                           3                                         \n",
      "Covariance Type:            nonrobust                                         \n",
      "=================================================================================\n",
      "                    coef    std err          t      P>|t|      [0.025      0.975]\n",
      "---------------------------------------------------------------------------------\n",
      "Intercept        97.9285      3.086     31.733      0.000      91.816     104.041\n",
      "SpeechTherapy    -1.1529      0.367     -3.141      0.002      -1.880      -0.426\n",
      "FBTraining       -0.0822      0.333     -0.247      0.805      -0.741       0.577\n",
      "StrokeSide        9.2078      2.526      3.645      0.000       4.204      14.211\n",
      "==============================================================================\n",
      "Omnibus:                       81.297   Durbin-Watson:                   1.799\n",
      "Prob(Omnibus):                  0.000   Jarque-Bera (JB):              840.868\n",
      "Skew:                          -2.055   Prob(JB):                    2.56e-183\n",
      "Kurtosis:                      15.299   Cond. No.                         22.5\n",
      "==============================================================================\n",
      "\n",
      "Notes:\n",
      "[1] Standard Errors assume that the covariance matrix of the errors is correctly specified.\n"
     ]
    },
    {
     "name": "stderr",
     "output_type": "stream",
     "text": [
      "<ipython-input-44-f89d3b4c89c1>:6: FutureWarning: The frame.append method is deprecated and will be removed from pandas in a future version. Use pandas.concat instead.\n",
      "  results_table = results_table.append({\n"
     ]
    }
   ],
   "source": [
    "#Step 7, Model3: Fit a multiple regression model with all predictors\n",
    "lm_multiple = ols('RecoveryTime ~ SpeechTherapy + FBTraining + StrokeSide', df_stroke).fit()\n",
    "print(lm_multiple.summary())\n",
    "\n",
    "# Save in a table for later comparison between models\n",
    "results_table = results_table.append({\n",
    "    \"Model\": 'Model 3: with all predictors',\n",
    "    \"R2\": lm_multiple.rsquared,\n",
    "    \"R2 Adjusted\": lm_multiple.rsquared_adj,\n",
    "    \"Log-Likelihood\": lm_multiple.llf,\n",
    "    \"AIC\": lm_multiple.aic,\n",
    "    \"BIC\": lm_multiple.bic\n",
    "}, ignore_index=True)"
   ]
  },
  {
   "cell_type": "code",
   "execution_count": 45,
   "metadata": {},
   "outputs": [
    {
     "name": "stdout",
     "output_type": "stream",
     "text": [
      "                            OLS Regression Results                            \n",
      "==============================================================================\n",
      "Dep. Variable:           RecoveryTime   R-squared:                       0.306\n",
      "Model:                            OLS   Adj. R-squared:                  0.281\n",
      "Method:                 Least Squares   F-statistic:                     12.65\n",
      "Date:                Mon, 02 Dec 2024   Prob (F-statistic):           1.45e-08\n",
      "Time:                        21:52:30   Log-Likelihood:                -468.10\n",
      "No. Observations:                 120   AIC:                             946.2\n",
      "Df Residuals:                     115   BIC:                             960.1\n",
      "Df Model:                           4                                         \n",
      "Covariance Type:            nonrobust                                         \n",
      "============================================================================================\n",
      "                               coef    std err          t      P>|t|      [0.025      0.975]\n",
      "--------------------------------------------------------------------------------------------\n",
      "Intercept                  106.8147      3.271     32.653      0.000     100.335     113.294\n",
      "SpeechTherapy               -3.0855      0.498     -6.193      0.000      -4.072      -2.099\n",
      "FBTraining                   0.0232      0.301      0.077      0.939      -0.574       0.620\n",
      "StrokeSide                  -9.9420      4.334     -2.294      0.024     -18.527      -1.357\n",
      "SpeechTherapy:StrokeSide     3.4772      0.669      5.198      0.000       2.152       4.802\n",
      "==============================================================================\n",
      "Omnibus:                      118.310   Durbin-Watson:                   1.935\n",
      "Prob(Omnibus):                  0.000   Jarque-Bera (JB):             2540.999\n",
      "Skew:                          -3.171   Prob(JB):                         0.00\n",
      "Kurtosis:                      24.633   Cond. No.                         41.4\n",
      "==============================================================================\n",
      "\n",
      "Notes:\n",
      "[1] Standard Errors assume that the covariance matrix of the errors is correctly specified.\n"
     ]
    },
    {
     "name": "stderr",
     "output_type": "stream",
     "text": [
      "<ipython-input-45-48b54daeb284>:6: FutureWarning: The frame.append method is deprecated and will be removed from pandas in a future version. Use pandas.concat instead.\n",
      "  results_table = results_table.append({\n"
     ]
    }
   ],
   "source": [
    "#Step 7, Model4: Fit an interaction model\n",
    "lm_interaction = ols('RecoveryTime ~ SpeechTherapy + FBTraining + StrokeSide + SpeechTherapy:StrokeSide', df_stroke).fit()\n",
    "print(lm_interaction.summary())\n",
    "\n",
    "# Save in a table for later comparison between models\n",
    "results_table = results_table.append({\n",
    "    \"Model\": 'Model 4: with interaction term',\n",
    "    \"R2\": lm_interaction.rsquared,\n",
    "    \"R2 Adjusted\": lm_interaction.rsquared_adj,\n",
    "    \"Log-Likelihood\": lm_interaction.llf,\n",
    "    \"AIC\": lm_interaction.aic,\n",
    "    \"BIC\": lm_interaction.bic\n",
    "}, ignore_index=True)"
   ]
  },
  {
   "cell_type": "markdown",
   "metadata": {},
   "source": [
    "#### Interpretation and Conclusion"
   ]
  },
  {
   "cell_type": "code",
   "execution_count": 46,
   "metadata": {},
   "outputs": [
    {
     "data": {
      "text/html": [
       "<div>\n",
       "<style scoped>\n",
       "    .dataframe tbody tr th:only-of-type {\n",
       "        vertical-align: middle;\n",
       "    }\n",
       "\n",
       "    .dataframe tbody tr th {\n",
       "        vertical-align: top;\n",
       "    }\n",
       "\n",
       "    .dataframe thead th {\n",
       "        text-align: right;\n",
       "    }\n",
       "</style>\n",
       "<table border=\"1\" class=\"dataframe\">\n",
       "  <thead>\n",
       "    <tr style=\"text-align: right;\">\n",
       "      <th></th>\n",
       "      <th>Model</th>\n",
       "      <th>R2</th>\n",
       "      <th>R2 Adjusted</th>\n",
       "      <th>Log-Likelihood</th>\n",
       "      <th>AIC</th>\n",
       "      <th>BIC</th>\n",
       "    </tr>\n",
       "  </thead>\n",
       "  <tbody>\n",
       "    <tr>\n",
       "      <th>0</th>\n",
       "      <td>Model 1: with Speech Therapy</td>\n",
       "      <td>0.044072</td>\n",
       "      <td>0.035971</td>\n",
       "      <td>-487.281124</td>\n",
       "      <td>978.562248</td>\n",
       "      <td>984.137231</td>\n",
       "    </tr>\n",
       "    <tr>\n",
       "      <th>1</th>\n",
       "      <td>Model 2: with StrokeSide</td>\n",
       "      <td>0.069358</td>\n",
       "      <td>0.061471</td>\n",
       "      <td>-485.672657</td>\n",
       "      <td>975.345314</td>\n",
       "      <td>980.920298</td>\n",
       "    </tr>\n",
       "    <tr>\n",
       "      <th>2</th>\n",
       "      <td>Model 3: with all predictors</td>\n",
       "      <td>0.142448</td>\n",
       "      <td>0.120270</td>\n",
       "      <td>-480.765113</td>\n",
       "      <td>969.530226</td>\n",
       "      <td>980.680193</td>\n",
       "    </tr>\n",
       "    <tr>\n",
       "      <th>3</th>\n",
       "      <td>Model 4: with interaction term</td>\n",
       "      <td>0.305617</td>\n",
       "      <td>0.281464</td>\n",
       "      <td>-468.101616</td>\n",
       "      <td>946.203232</td>\n",
       "      <td>960.140691</td>\n",
       "    </tr>\n",
       "  </tbody>\n",
       "</table>\n",
       "</div>"
      ],
      "text/plain": [
       "                            Model        R2  R2 Adjusted  Log-Likelihood  \\\n",
       "0    Model 1: with Speech Therapy  0.044072     0.035971     -487.281124   \n",
       "1        Model 2: with StrokeSide  0.069358     0.061471     -485.672657   \n",
       "2    Model 3: with all predictors  0.142448     0.120270     -480.765113   \n",
       "3  Model 4: with interaction term  0.305617     0.281464     -468.101616   \n",
       "\n",
       "          AIC         BIC  \n",
       "0  978.562248  984.137231  \n",
       "1  975.345314  980.920298  \n",
       "2  969.530226  980.680193  \n",
       "3  946.203232  960.140691  "
      ]
     },
     "execution_count": 46,
     "metadata": {},
     "output_type": "execute_result"
    }
   ],
   "source": [
    "results_table"
   ]
  },
  {
   "cell_type": "markdown",
   "metadata": {},
   "source": [
    "<span style='color:Blue'> Best Model:\n",
    "    \n",
    "    Model 4 (with interaction term) is the most statistically sound model. It explains the most variance in stroke recovery time and performs best according to all metrics (R², Adjusted R², Log-Likelihood, AIC, and BIC).\n",
    "\n",
    "<span style='color:Blue'> Worst Model: \n",
    "    \n",
    "    Model 1 (Speech Therapy only) is the least effective model, as it has the lowest values across all evaluation metrics, showing that it explains very little of the variation in stroke recovery time.\n",
    "\n",
    "<span style='color:Blue'> Thus, Model 4 should be considered the best model for predicting stroke recovery time, with significant contributions from both the therapies and their interactions with stroke side."
   ]
  },
  {
   "cell_type": "markdown",
   "metadata": {},
   "source": [
    "### Q4: Simulation: What is the most powerful way to manipulate a dosage?\n",
    "\n",
    "We have learned how to pick the most appropriate statistical test as a function of how the independent variable is grouped or manipulated (nominal groups or continuous). But in many studies there are several equally feasible ways you could manipulate an independent variable, and you would want to choose the way that will have the highest statistical power. For example, when examining the impact of a drug or an intervention on a health outcome, we usually have freedom to choose how we manipulate the AMOUNT of the drug/intervention. Assuming there is some maximum amount we can administer, we can, for example, divide our population into two extreme groups (full amount Vs none), divide into >2 groups with a series of increasing amounts, or administer random amounts to people up to the maximum. Which is best?\n",
    "\n",
    "In this problem you are going to use simulations to answer the specific question, which of 4 alternative experimental designs is the most powerful to detect a significant effect, in two hypothetical scenarios where you know the true underlying relationship between the amount of the drug/intervention and the health outcome.\n",
    "\n",
    "Let's use this specific example: there is a brain stimulation therapy for Parkinsons Disease (PD) patients, and the maximum current allowed to be administered is 2 mA. We have access to 60 Parkinsons patients and we are free to group/manipulate the strength of the current in any way we wish, as long as we don't exceed that maximum. The dependent variable is a motor assessment scale (a trained clinician's evaluation) that has a mean value of 100 in PD patients but has higher values as functioning improves.  \n",
    "\n",
    "The different experimental designs you are considering are the following:\n",
    "###### Design 1: \n",
    "Split the 60 patients randomly into two groups of 30, one group not undergoing the therapy at all, and the other undergoing the full 2 mA. Run an independent-samples t-test to compare the two groups.\n",
    "###### Design 2: \n",
    "Split the 60 patients randomly into FIVE groups of 12, and assign to the individuals in these 5 groups a current of 0, 0.5, 1, 1.5 and 2 mA. Run an independent-samples one-way ANOVA to compare the five groups (no need to follow up with pairwise comparisons for our current purposes).\n",
    "###### Design 3: \n",
    "Collect the 5 groups of 10 exactly as in Design 2, but instead of an ANOVA, run a linear regression of motor assessment score against current magnitude to test for a significant effect.\n",
    "###### Design 4: \n",
    "Take the 60 patients as one group and randomly assign a current between 0 (none) and 2 mA to each individual, according to a uniform distribution. Run a linear regression of motor assessment score against current magnitude to test for a significant effect.\n",
    "_________________________________\n",
    "The simulated data must mimic real data in that when no amount of the therapy is given, the average motor assessment (MA) score should equal 100, and two different scenarios should be examined, which assume different ways in which the therapy has an impact on average:\n",
    "###### Scenario A: \n",
    "The therapy increases MA score linearly from 100 for no therapy to 110 for 2 mA of current. This is described by\n",
    "\\begin{equation}\n",
    "Y = \\beta_0 + \\beta_{1A}X\n",
    "\\end{equation}\n",
    "where Y is MA score, X is the current magnitude, the intercept $\\beta_0$=100, and slope $\\beta_{1A}$=5 (per mA).\n",
    "\n",
    "###### Scenario B:  \n",
    "The therapy increases MA score up to a maximum of 110 for an intermediate current but its impact wanes for greater durations, as described by\n",
    "\\begin{equation}\n",
    "Y = \\beta_0 + \\beta_{1B}X + \\beta_{2B}X^2\n",
    "\\end{equation}\n",
    "where the intercept is the same $\\beta_0$ = 100, and $\\beta_{1B}$ = 21 and $\\beta_{2B}$ = -9.72.\n",
    "________________________________________________\n",
    "First look at these functions relating the average MA score as a function of stimulation current.\n",
    "\n",
    "Then simulate real data by assuming that on top of those trends governing mean MA score, there is inter-individual variability in MA score of standard deviation $\\sigma$ = 10, independent of the stimulation current. \n",
    "\n",
    "Finally, run 1000 simulations of each experimental design for each of the two scenarios (8 in total), re-generating the data afresh using random sampling on each simulation run, and quantify the proportion of runs on which the statistical test for the design correctly concludes that there is in fact a significant effect of the stimulation.\n",
    "\n",
    "We have provided code below to generate a dataframe to put these results into. Use this table and display it at the end of your simulations."
   ]
  },
  {
   "cell_type": "markdown",
   "metadata": {},
   "source": [
    "First plot the underlying functions relating MA score to current from 0 to 2 mA:"
   ]
  },
  {
   "cell_type": "code",
   "execution_count": 48,
   "metadata": {},
   "outputs": [
    {
     "data": {
      "image/png": "[encoded data removed]",
      "text/plain": [
       "<Figure size 720x432 with 1 Axes>"
      ]
     },
     "metadata": {
      "needs_background": "light"
     },
     "output_type": "display_data"
    }
   ],
   "source": [
    "# Define parameters\n",
    "n_patients = 60\n",
    "max_current = 2.0\n",
    "sigma = 10  # Standard deviation for variability\n",
    "n_simulations = 1000\n",
    "\n",
    "# Define the current values (0 to 2 mA)\n",
    "current = np.linspace(0, 2, 100)\n",
    "\n",
    "# Scenario A: Linear increase\n",
    "def scenario_A(current):\n",
    "    return 100 + 5 * current  # Y = 100 + 5 * X\n",
    "\n",
    "# Scenario B: Non-linear increase\n",
    "def scenario_B(current):\n",
    "    return 100 + 21 * current - 9.72 * current**2  # Y = 100 + 21 * X - 9.72 * X^2\n",
    "\n",
    "# Plot both scenarios\n",
    "plt.figure(figsize=(10, 6))\n",
    "plt.plot(current, scenario_A(current), label=\"Scenario A (Linear)\", color=\"blue\")\n",
    "plt.plot(current, scenario_B(current), label=\"Scenario B (Non-linear)\", color=\"red\")\n",
    "plt.title(\"Linear VS non-Linear Scenario\")\n",
    "plt.xlabel(\"Current (mA)\")\n",
    "plt.ylabel(\"Motor Assessment Score (MA)\")\n",
    "plt.legend()\n",
    "plt.grid(True)\n",
    "plt.show()\n"
   ]
  },
  {
   "cell_type": "markdown",
   "metadata": {},
   "source": [
    "Now generate and visualise one example dataset for each Scenario and Design by generating 60 subjects' data with the required amount of variability. Note that only 6 plots are required here for Designs 1, 2 and 4 under both scenarios, because Design 3 collects data in the same way as Design 2. These preliminary steps are important to make sure you have figured out how to generate the data correctly before moving on to the 1000 simulation runs of each. "
   ]
  },
  {
   "cell_type": "code",
   "execution_count": 50,
   "metadata": {},
   "outputs": [
    {
     "data": {
      "image/png": "[encoded data removed]",
      "text/plain": [
       "<Figure size 1296x864 with 6 Axes>"
      ]
     },
     "metadata": {
      "needs_background": "light"
     },
     "output_type": "display_data"
    }
   ],
   "source": [
    "# Function to generate data for each design and scenario\n",
    "np.random.seed(42)  # For reproducibility\n",
    "def generate_data(scenario_func, design, n_patients=60, std_dev=10):\n",
    "    \n",
    "    if design == 1:  # Two groups: 30 patients in 0 mA and 30 patients in 2 mA\n",
    "        currents = np.array([0] * 30 + [2] * 30)\n",
    "    elif design == 2:  # Five groups: 12 patients in each group\n",
    "        currents = np.concatenate([np.repeat(0, 12), np.repeat(0.5, 12),np.repeat(1, 12),np.repeat(1.5, 12), np.repeat(2, 12)])                        \n",
    "    elif design == 3:  # Same as design 2, but for linear regression\n",
    "        currents = np.concatenate([np.repeat(0, 12), np.repeat(0.5, 12),np.repeat(1, 12),np.repeat(1.5, 12), np.repeat(2, 12)])\n",
    "    elif design == 4:  # Random current between 0 and 2 mA\n",
    "        currents = np.random.uniform(0, 2, size=n_patients)\n",
    "    \n",
    "    # Calculate MA scores using the scenario function\n",
    "    scores = scenario_func(currents) + np.random.normal(0, std_dev, size=n_patients)\n",
    "    \n",
    "    return pd.DataFrame({'Current': currents, 'MA_Score': scores})\n",
    "\n",
    "# Set up the plot\n",
    "fig, axes = plt.subplots(2, 3, figsize=(18, 12))\n",
    "design = [1, 2, 4] # for ploting, we dont want to repeat scenario 3, as it is similar to 2\n",
    "scenarios = [scenario_A, scenario_B]\n",
    "scenarios_name = ['Scenario A', 'Scenario B']\n",
    "\n",
    "# Iterate through each scenario and design\n",
    "for i, (scenario_func, scenario_name) in enumerate(zip(scenarios, scenarios_name)):\n",
    "    for d in range(1,4):\n",
    "        \n",
    "        # Generate data for the current scenario and design\n",
    "        design_ind = design[d-1]\n",
    "        data = generate_data(scenario_func, design_ind)\n",
    "        \n",
    "        # Plot the data\n",
    "        ax = axes[i, d-1]\n",
    "        sns.scatterplot(x='Current', y='MA_Score', data=data, ax=ax, s=100, color='blue', alpha=0.6)\n",
    "        ax.set_title(f'{scenario_name} - Design {design_ind}')\n",
    "        ax.set_xlabel('Current (mA)')\n",
    "        ax.set_ylabel('Motor Assessment Score')\n",
    "        #ax.set_xlim(-0.05, 2.05)\n",
    "        ax.set_ylim(70, 130)\n",
    "        \n",
    "\n",
    "plt.tight_layout()\n",
    "plt.show()\n"
   ]
  },
  {
   "cell_type": "markdown",
   "metadata": {},
   "source": [
    "Now simulate the 1000 runs for each of the 8 cases and compute the observed statistical power by counting significant results in the usual way. Display the results (power values) in the table at the end."
   ]
  },
  {
   "cell_type": "code",
   "execution_count": 75,
   "metadata": {},
   "outputs": [],
   "source": [
    "# Function to simulate and test each design\n",
    "def run_design_simulations(scenario_func, design, n_simulations=1000, n_patients=60, std_dev=10):\n",
    "    \n",
    "    p_values = []     # Store the p-values for each simulation\n",
    "    avg_p_values = [] # Store average of the p-values\n",
    "    \n",
    "    power = []        # Store power results of significan simulations\n",
    "    avg_power = []    # Store average of the power\n",
    "    \n",
    "    for sim in range(n_simulations):\n",
    "        # Generate data\n",
    "        data = generate_data(scenario_func, design, n_patients, std_dev)\n",
    "        \n",
    "        # Perform statistical test depending on the design\n",
    "        if design == 1:  # Independent t-test (Design 1)\n",
    "            group_1 = data[data['Current'] == 0]['MA_Score']  # 0 mA\n",
    "            group_2 = data[data['Current'] == 2]['MA_Score']  # 2 mA\n",
    "            result1 = pg.ttest(group_1, group_2)\n",
    "            p_val = result1['p-val'].values[0]\n",
    "            \n",
    "        elif design == 2:  # One-way ANOVA (Design 2)\n",
    "            result2 = pg.anova(data=data, dv='MA_Score', between='Current')\n",
    "            p_val = result2['p-unc'].values[0]\n",
    "        \n",
    "        elif design == 3:  # Linear Regression (Design 3)\n",
    "            MA_score = data['MA_Score'] \n",
    "            current  = data['Current']\n",
    "            X = sm.add_constant(current)  # Add constant for intercept\n",
    "            model = sm.OLS(MA_score, X).fit()\n",
    "            p_val = model.pvalues[1]  # p-value for the current magnitude effect\n",
    "        \n",
    "        elif design == 4:  # Linear Regression with Random Current (Design 4)\n",
    "            MA_score = data['MA_Score'] \n",
    "            current  = data['Current']\n",
    "            X = sm.add_constant(current)\n",
    "            model = sm.OLS(MA_score, X).fit()\n",
    "            p_val = model.pvalues[1]\n",
    "        \n",
    "        p_values.append(p_val)\n",
    "    \n",
    "    avg_p_values= np.mean(p_values)\n",
    "    # Calculate the mean power of each\n",
    "    power = np.mean(np.array(p_values) < 0.05)    \n",
    "    #avg_power = np.sum(power)/len(p_values)\n",
    "    \n",
    "    return avg_p_values, power"
   ]
  },
  {
   "cell_type": "code",
   "execution_count": 67,
   "metadata": {},
   "outputs": [
    {
     "data": {
      "text/plain": [
       "2.0"
      ]
     },
     "execution_count": 67,
     "metadata": {},
     "output_type": "execute_result"
    }
   ],
   "source": [
    "n =[1,2,3]\n",
    "np.sum(n)/len(n)"
   ]
  },
  {
   "cell_type": "code",
   "execution_count": 76,
   "metadata": {},
   "outputs": [],
   "source": [
    "# initials the table\n",
    "initialize = np.zeros(shape=2)\n",
    "res_pval = pd.DataFrame({'Design 1':initialize , 'Design 2':initialize , 'Design 3':initialize , 'Design 4':initialize} , index=['Scenario A','Scenario B'])\n",
    "res_power = pd.DataFrame({'Design 1':initialize , 'Design 2':initialize , 'Design 3':initialize , 'Design 4':initialize} , index=['Scenario A','Scenario B'])\n",
    " \n",
    "# Run simulations for each design and scenario\n",
    "designs = [1, 2, 3, 4]\n",
    "scenarios = [scenario_A, scenario_B]\n",
    "scenarios_name = ['Scenario A', 'Scenario B']\n",
    "p_value_results = []\n",
    "\n",
    "for scenario, scenario_name in zip(scenarios, scenarios_name):\n",
    "    for design in designs:\n",
    "        [p_value_results, power_result] = run_design_simulations(scenario, design)\n",
    "        # convert the result into table\n",
    "        res_pval.loc[scenario_name, f'Design {design}'] = p_value_results \n",
    "        res_power.loc[scenario_name, f'Design {design}'] = power_result"
   ]
  },
  {
   "cell_type": "code",
   "execution_count": 78,
   "metadata": {},
   "outputs": [
    {
     "data": {
      "text/html": [
       "<div>\n",
       "<style scoped>\n",
       "    .dataframe tbody tr th:only-of-type {\n",
       "        vertical-align: middle;\n",
       "    }\n",
       "\n",
       "    .dataframe tbody tr th {\n",
       "        vertical-align: top;\n",
       "    }\n",
       "\n",
       "    .dataframe thead th {\n",
       "        text-align: right;\n",
       "    }\n",
       "</style>\n",
       "<table border=\"1\" class=\"dataframe\">\n",
       "  <thead>\n",
       "    <tr style=\"text-align: right;\">\n",
       "      <th></th>\n",
       "      <th>Design 1</th>\n",
       "      <th>Design 2</th>\n",
       "      <th>Design 3</th>\n",
       "      <th>Design 4</th>\n",
       "    </tr>\n",
       "  </thead>\n",
       "  <tbody>\n",
       "    <tr>\n",
       "      <th>Scenario A</th>\n",
       "      <td>0.005359</td>\n",
       "      <td>0.135255</td>\n",
       "      <td>0.059366</td>\n",
       "      <td>0.114306</td>\n",
       "    </tr>\n",
       "    <tr>\n",
       "      <th>Scenario B</th>\n",
       "      <td>0.295247</td>\n",
       "      <td>0.062657</td>\n",
       "      <td>0.428098</td>\n",
       "      <td>0.443342</td>\n",
       "    </tr>\n",
       "  </tbody>\n",
       "</table>\n",
       "</div>"
      ],
      "text/plain": [
       "            Design 1  Design 2  Design 3  Design 4\n",
       "Scenario A  0.005359  0.135255  0.059366  0.114306\n",
       "Scenario B  0.295247  0.062657  0.428098  0.443342"
      ]
     },
     "execution_count": 78,
     "metadata": {},
     "output_type": "execute_result"
    }
   ],
   "source": [
    "# average p-valueus of all conditions\n",
    "res_pval "
   ]
  },
  {
   "cell_type": "code",
   "execution_count": 77,
   "metadata": {},
   "outputs": [
    {
     "data": {
      "text/html": [
       "<div>\n",
       "<style scoped>\n",
       "    .dataframe tbody tr th:only-of-type {\n",
       "        vertical-align: middle;\n",
       "    }\n",
       "\n",
       "    .dataframe tbody tr th {\n",
       "        vertical-align: top;\n",
       "    }\n",
       "\n",
       "    .dataframe thead th {\n",
       "        text-align: right;\n",
       "    }\n",
       "</style>\n",
       "<table border=\"1\" class=\"dataframe\">\n",
       "  <thead>\n",
       "    <tr style=\"text-align: right;\">\n",
       "      <th></th>\n",
       "      <th>Design 1</th>\n",
       "      <th>Design 2</th>\n",
       "      <th>Design 3</th>\n",
       "      <th>Design 4</th>\n",
       "    </tr>\n",
       "  </thead>\n",
       "  <tbody>\n",
       "    <tr>\n",
       "      <th>Scenario A</th>\n",
       "      <td>0.978</td>\n",
       "      <td>0.507</td>\n",
       "      <td>0.736</td>\n",
       "      <td>0.583</td>\n",
       "    </tr>\n",
       "    <tr>\n",
       "      <th>Scenario B</th>\n",
       "      <td>0.239</td>\n",
       "      <td>0.726</td>\n",
       "      <td>0.116</td>\n",
       "      <td>0.097</td>\n",
       "    </tr>\n",
       "  </tbody>\n",
       "</table>\n",
       "</div>"
      ],
      "text/plain": [
       "            Design 1  Design 2  Design 3  Design 4\n",
       "Scenario A     0.978     0.507     0.736     0.583\n",
       "Scenario B     0.239     0.726     0.116     0.097"
      ]
     },
     "execution_count": 77,
     "metadata": {},
     "output_type": "execute_result"
    }
   ],
   "source": [
    "# average power of all conditions\n",
    "res_power  "
   ]
  },
  {
   "cell_type": "markdown",
   "metadata": {},
   "source": [
    "Comment on the results - how do the designs rank in terms of statistical power in each scenario, and why do you think that is? Why was it important in the first place to consider multiple different scenarios for the potential underlying trends?"
   ]
  },
  {
   "cell_type": "markdown",
   "metadata": {},
   "source": [
    "#### Scenario A: Design 1 > Design 3 > Design 4 > Design 2\n",
    "    \n",
    "<span style='color:Blue'>  Design 1 directly compares the two extreme groups (0 mA and 2 mA), where the difference in means is maximized. This minimizes variability and maximizes the signal-to-noise ratio for detecting the linear trend. On the other side, ANOVA divides the data into multiple groups, diluting the effect size. It is less efficient than linear regression or a focused two-group comparison when the underlying relationship is strictly linear.\n",
    "    \n",
    "<span style='color:Blue'> Overall, Linear relationships are best captured by designs that focus on the extremes or use regression, which models continuous trends efficiently. Dividing the data into multiple groups (Design 2) or introducing randomness (Design 4) reduces sensitivity."
   ]
  },
  {
   "cell_type": "markdown",
   "metadata": {},
   "source": [
    "#### Scenario B:Design 2 >> Design 1 > Design 3 > Design 4 \n",
    "    \n",
    "<span style='color:Blue'> With five groups, ANOVA is better able to detect differences across the range of current values, capturing the peak of the quadratic trend around 1 mA. Also, in design 1, comparing 0 mA and 2 mA captures part of the quadratic relationship (differences at the extremes). However, it misses the intermediate peak at 1 mA, limiting its power. For design 3 and , Linear regression struggles to model the non-linear trend. Random current levels introduce noise, further reducing sensitivity.\n",
    "    \n",
    "<span style='color:Blue'>  Oveall, Non-linear trends require designs that capture differences across the entire range of currents. ANOVA is particularly suited for this purpose because it compares multiple groups. Linear regression performs poorly because it cannot model non-linearity, especially with added noise from random sampling.\n",
    "    "
   ]
  },
  {
   "cell_type": "markdown",
   "metadata": {},
   "source": [
    "#### Important to Consider Multiple Scenarios?\n",
    "\n",
    "<span style='color:Blue'>  1. **Realistic Variability:** In real-world applications, the relationship between a variable (e.g., current) and an outcome (e.g., motor assessment score) is not always linear. Testing multiple scenarios ensures that the study design is robust to different potential trends.\n",
    "\n",
    "<span style='color:Blue'>  2. **Design Flexibility:** Each design has strengths and weaknesses depending on the nature of the effect. For example, Design 1 excels in linear scenarios but is less effective for non-linear trends. Considering multiple scenarios helps identify which design is most appropriate.\n",
    "\n",
    "<span style='color:Blue'>  3. **Generalizability of Findings:** By testing both linear (Scenario A) and non-linear (Scenario B) relationships, we can look for different trends, avoids overfitting the design to a single type of trend."
   ]
  },
  {
   "cell_type": "markdown",
   "metadata": {},
   "source": [
    "What alternative analysis would make design 4 more powerful for Scenario 2? \n",
    "(It is not necessary to simulate this one, but bonus marks that compensate for any lost marks in the above will be awarded if you attempt it)"
   ]
  },
  {
   "cell_type": "markdown",
   "metadata": {},
   "source": [
    "<span style='color:Blue'>  Design 4 suffers from a mismatch between the analysis method (linear regression) and the underlying pattern (non-linear). Adopting polynomial regression ensures the analysis reflects the true relationship, reducing Type II errors and boosting power."
   ]
  },
  {
   "cell_type": "markdown",
   "metadata": {},
   "source": [
    "<span style='color:Blue'>"
   ]
  }
 ],
 "metadata": {
  "kernelspec": {
   "display_name": "Python 3",
   "language": "python",
   "name": "python3"
  },
  "language_info": {
   "codemirror_mode": {
    "name": "ipython",
    "version": 3
   },
   "file_extension": ".py",
   "mimetype": "text/x-python",
   "name": "python",
   "nbconvert_exporter": "python",
   "pygments_lexer": "ipython3",
   "version": "3.8.8"
  }
 },
 "nbformat": 4,
 "nbformat_minor": 4
}
